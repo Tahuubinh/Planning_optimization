{
 "cells": [
  {
   "cell_type": "code",
   "execution_count": 2,
   "id": "7ec02c73",
   "metadata": {},
   "outputs": [],
   "source": [
    "import numpy as np\n",
    "import random\n",
    "import os\n",
    "import json\n",
    "import pandas as pd\n",
    "import copy\n",
    "from numpyencoder import NumpyEncoder"
   ]
  },
  {
   "cell_type": "code",
   "execution_count": 8,
   "id": "fe806652",
   "metadata": {},
   "outputs": [],
   "source": [
    "def create_data(N, m, M, ld, ud, lperiod, uperiod):\n",
    "    \"\"\"\n",
    "    Params:\n",
    "        N: number of fields\n",
    "        m: lower bound of number of field to harvest\n",
    "        M: upper bound of number of field to harvest \n",
    "        ld: lower bound of harvested quantity\n",
    "        ud: upper bound of harvested quantity\n",
    "        lperiod: lower bound of range of days to harvest\n",
    "        uperiod: upper bound of range of days to harvest\n",
    "    Return:\n",
    "        d: list of harvested quantity\n",
    "        s: list of start time to harvest\n",
    "        e: list of end time to harvest\n",
    "    \"\"\"\n",
    "    \n",
    "\n",
    "    # divide the yield among the fields of the same day\n",
    "    d = []\n",
    "    s = []\n",
    "    e = []\n",
    "    startday = 0\n",
    "    for field in range(N):\n",
    "        startday += random.choices([0, 1, 2], weights=[70, 38, 2])[0]\n",
    "        s.append(startday)\n",
    "        e.append(startday + random.randint(lperiod, uperiod))\n",
    "        d.append(random.randint(ld, ud))\n",
    "    return d, s, e"
   ]
  },
  {
   "cell_type": "code",
   "execution_count": 11,
   "id": "42562a6e",
   "metadata": {},
   "outputs": [],
   "source": [
    "N = [100, 250, 500, 750, 1000]\n",
    "low = [20, 30, 40, 50, 60]\n",
    "high = [30, 50, 75, 100, 125]\n",
    "\n",
    "for k in range(1):\n",
    "    for i in range(1):\n",
    "        for j in range(1):\n",
    "# for k in range(5):\n",
    "#     for i in range(5):\n",
    "#         for j in range(5):\n",
    "            with open(f\"../data_v2/HomologousField/sample_{N[i]}_{low[j]}_{high[j]}.json\", \"w\") as f:\n",
    "                d, s, e = create_data(N[i], low[j], high[j], 8, 10, 100, 200)\n",
    "                json.dump({\"N\": N[i], \"m\": low[j], \"M\": high[j], \"d\": d, \"s\": s, \"e\": e}, f, cls=NumpyEncoder)"
   ]
  },
  {
   "cell_type": "code",
   "execution_count": 6,
   "id": "db46ca97",
   "metadata": {},
   "outputs": [
    {
     "data": {
      "text/plain": [
       "1"
      ]
     },
     "execution_count": 6,
     "metadata": {},
     "output_type": "execute_result"
    }
   ],
   "source": [
    "random.randint(1, 1 + random.choices([0, 1, 2], weights=[50, 30, 20])[0])"
   ]
  },
  {
   "cell_type": "code",
   "execution_count": 5,
   "id": "20f72e1a",
   "metadata": {},
   "outputs": [
    {
     "data": {
      "text/plain": [
       "[0]"
      ]
     },
     "execution_count": 5,
     "metadata": {},
     "output_type": "execute_result"
    }
   ],
   "source": [
    "random.choices([0, 1, 2], weights=[50, 30, 20])"
   ]
  },
  {
   "cell_type": "code",
   "execution_count": null,
   "id": "b1794edd",
   "metadata": {},
   "outputs": [],
   "source": []
  },
  {
   "cell_type": "code",
   "execution_count": null,
   "id": "f67bf261",
   "metadata": {},
   "outputs": [],
   "source": []
  },
  {
   "cell_type": "code",
   "execution_count": null,
   "id": "44694f27",
   "metadata": {},
   "outputs": [],
   "source": []
  },
  {
   "cell_type": "code",
   "execution_count": null,
   "id": "cc40a38f",
   "metadata": {},
   "outputs": [],
   "source": []
  },
  {
   "cell_type": "code",
   "execution_count": null,
   "id": "56d3b7ff",
   "metadata": {},
   "outputs": [],
   "source": []
  }
 ],
 "metadata": {
  "kernelspec": {
   "display_name": "Python 3 (ipykernel)",
   "language": "python",
   "name": "python3"
  },
  "language_info": {
   "codemirror_mode": {
    "name": "ipython",
    "version": 3
   },
   "file_extension": ".py",
   "mimetype": "text/x-python",
   "name": "python",
   "nbconvert_exporter": "python",
   "pygments_lexer": "ipython3",
   "version": "3.9.13"
  }
 },
 "nbformat": 4,
 "nbformat_minor": 5
}
