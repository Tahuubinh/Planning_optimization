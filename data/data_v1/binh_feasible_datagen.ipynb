{
 "cells": [
  {
   "cell_type": "code",
   "execution_count": 1,
   "id": "69bf87f1",
   "metadata": {},
   "outputs": [],
   "source": [
    "import numpy as np\n",
    "import random\n",
    "import os\n",
    "import json\n",
    "import pandas as pd\n",
    "import copy"
   ]
  },
  {
   "cell_type": "code",
   "execution_count": 24,
   "id": "0b56b0ef",
   "metadata": {},
   "outputs": [],
   "source": [
    "def createData(folder_name, # directory of generated data.\n",
    "               N, # number of fields\n",
    "               m, # lower bound of number of field to harvest\n",
    "               M, # upper bound of number of field to harvest \n",
    "               mu, # mean of d following normal distribution\n",
    "               sigma, # standard deviaiton of d following normal distribution\n",
    "               d_min, # min value of d to clip\n",
    "               d_max, # max value of d to clip\n",
    "               day_jump_random, # function returns jump day\n",
    "               d_jump_random, # function returns jump d\n",
    "               e_jump_random, # function returns jump e\n",
    "               *args):\n",
    "    \n",
    "    \"\"\"\n",
    "    # Return\n",
    "        Problem with feasible solutions\n",
    "    \"\"\"\n",
    "    \n",
    "    dictionary = dict()\n",
    "    dictionary['N'] = N\n",
    "    dictionary['m'] = m\n",
    "    dictionary['M'] = M\n",
    "    d = [0] * N\n",
    "    s = [0] * N\n",
    "    e = [0] * N\n",
    "    \n",
    "    d_samples = np.random.normal(mu, sigma, N)\n",
    "    d_samples = np.clip(d_samples, d_min, d_max)\n",
    "    d_samples = d_samples.tolist()\n",
    "    d = [round(item) for item in d_samples]\n",
    "    d_samples = copy.copy(d)\n",
    "    d_indice = [*range(N)]\n",
    "    \n",
    "    day = day_jump_random()[0]\n",
    "    days = dict()\n",
    "    days[day] = list()\n",
    "    d_sum = 0\n",
    "    d_sums = dict()\n",
    "    \n",
    "    while(d_indice):\n",
    "        d_index = random.sample(d_indice, k = 1)[0]\n",
    "        d_indice.remove(d_index)\n",
    "        if (d_sum + d[d_index] < M):\n",
    "            d_sum += d[d_index]\n",
    "            days[day].append(d_index)\n",
    "        else:\n",
    "            d_sums[day] = d_sum\n",
    "            d_sum = d[d_index]\n",
    "            day += day_jump_random()[0]\n",
    "            days[day] = [d_index]\n",
    "            \n",
    "    d_sums[day] = d_sum\n",
    "    if d_sum < d_min:\n",
    "        d[d_index] += (d_min - d_sum)\n",
    "    \n",
    "    \n",
    "    for index, values in days.items():\n",
    "        lb_day = max(0, index - random.choices([0, 1, 2], weights=[30, 40, 30])[0])\n",
    "        for value in values:\n",
    "            s[value] = random.randint(lb_day, index)\n",
    "            e[value] = random.randint(index, index + random.choices([0, 1, 2], weights=[50, 30, 20])[0])\n",
    "            \n",
    "        \n",
    "    day_jump_random_info = day_jump_random()[1]\n",
    "    d_jump_random_info = d_jump_random()[1]\n",
    "    e_jump_random_info = e_jump_random()[1]\n",
    "    arguments = locals()\n",
    "    \n",
    "    dictionary['d'] = d\n",
    "    dictionary['s'] = s\n",
    "    dictionary['e'] = e\n",
    "    \n",
    "    try:\n",
    "        os.makedirs('./' + folder_name)\n",
    "    except OSError as e:\n",
    "        print(\"Replace existed file\")\n",
    "    \n",
    "#     with open(folder_name + \"/arguments.json\", \"w\") as outfile:\n",
    "#         json.dump(arguments, outfile)\n",
    "\n",
    "    with open(folder_name + \"/arguments.txt\", \"w\") as arguments_file:\n",
    "        arguments_file.write(str(arguments).replace(',', '\\n'))\n",
    "        \n",
    "#     with open(folder_name + \"/arguments.txt\", \"w\") as arguments_file:\n",
    "#         arguments_file.write(str(arguments))\n",
    "    \n",
    "    with open(folder_name + \"/data.json\", \"w\") as outfile:\n",
    "        json.dump(dictionary, outfile)"
   ]
  },
  {
   "cell_type": "code",
   "execution_count": 25,
   "id": "f61e2c7e",
   "metadata": {},
   "outputs": [],
   "source": [
    "# all random values must return the random value and its information\n",
    "def day_jump_random():\n",
    "    values = [1, 2, 3]; weights = [80, 15, 5]\n",
    "    return random.choices(values, weights = weights)[0], {'values': values, 'weights': weights}\n",
    "def d_jump_random():\n",
    "    values = [0, 1, 2]; weights = [30, 40, 30]\n",
    "    return random.choices(values, weights = weights)[0], {'values': values, 'weights': weights}\n",
    "def e_jump_random():\n",
    "    values = [0, 1, 2]; weights = [30, 40, 30]\n",
    "    return random.choices(values, weights = weights)[0], {'values': values, 'weights': weights}\n",
    "createData('datatest20_3', N = 20, m = 5, M = 17, mu = 11, sigma = 2, d_min = 5, d_max = 30, \n",
    "           day_jump_random = day_jump_random, \n",
    "           d_jump_random = d_jump_random, \n",
    "           e_jump_random = e_jump_random)"
   ]
  },
  {
   "cell_type": "code",
   "execution_count": 26,
   "id": "f3698fc4",
   "metadata": {},
   "outputs": [
    {
     "name": "stdout",
     "output_type": "stream",
     "text": [
      "Replace existed file\n"
     ]
    }
   ],
   "source": [
    "createData('datatest20_3', N = 20, m = 5, M = 17, mu = 4, sigma = 1, d_min = 2, d_max = 10, \n",
    "           day_jump_random = day_jump_random, \n",
    "           d_jump_random = d_jump_random, \n",
    "           e_jump_random = e_jump_random)"
   ]
  },
  {
   "cell_type": "code",
   "execution_count": null,
   "id": "2daf0e92",
   "metadata": {},
   "outputs": [],
   "source": []
  }
 ],
 "metadata": {
  "kernelspec": {
   "display_name": "Python 3 (ipykernel)",
   "language": "python",
   "name": "python3"
  },
  "language_info": {
   "codemirror_mode": {
    "name": "ipython",
    "version": 3
   },
   "file_extension": ".py",
   "mimetype": "text/x-python",
   "name": "python",
   "nbconvert_exporter": "python",
   "pygments_lexer": "ipython3",
   "version": "3.9.13"
  }
 },
 "nbformat": 4,
 "nbformat_minor": 5
}
