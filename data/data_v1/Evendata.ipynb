{
 "cells": [
  {
   "cell_type": "code",
   "execution_count": 3,
   "id": "7ec02c73",
   "metadata": {},
   "outputs": [],
   "source": [
    "import numpy as np\n",
    "import random\n",
    "import os\n",
    "import json\n",
    "import pandas as pd\n",
    "import copy\n",
    "from numpyencoder import NumpyEncoder"
   ]
  },
  {
   "cell_type": "code",
   "execution_count": 6,
   "id": "fe806652",
   "metadata": {},
   "outputs": [],
   "source": [
    "def create_data(N, m, M, ld, ud, lperiod, uperiod):\n",
    "    \"\"\"\n",
    "    Params:\n",
    "        N: number of fields\n",
    "        m: lower bound of number of field to harvest\n",
    "        M: upper bound of number of field to harvest \n",
    "        ld: lower bound of harvested quantity\n",
    "        ud: upper bound of harvested quantity\n",
    "        lperiod: lower bound of range of days to harvest\n",
    "        uperiod: upper bound of range of days to harvest\n",
    "    Return:\n",
    "        d: list of harvested quantity\n",
    "        s: list of start time to harvest\n",
    "        e: list of end time to harvest\n",
    "    \"\"\"\n",
    "    \n",
    "\n",
    "    # divide the yield among the fields of the same day\n",
    "    d = []\n",
    "    s = []\n",
    "    e = []\n",
    "    startday = 0\n",
    "    for field in range(N):\n",
    "        startday += random.choices([0, 1, 2, 3], weights=[10, 70, 15, 5])[0]\n",
    "        s.append(startday)\n",
    "        e.append(startday + random.randint(lperiod, uperiod))\n",
    "        d.append(random.randint(ld, ud))\n",
    "    e = np.array(e) - min(s)\n",
    "    s = np.array(s) - min(s)\n",
    "    return d, s, e"
   ]
  },
  {
   "cell_type": "code",
   "execution_count": 11,
   "id": "3384f965",
   "metadata": {},
   "outputs": [],
   "source": [
    "N = 500; low = 10; high = 50; ld = 8; ud = 10; lperiod = 10; uperiod = 20\n",
    "with open(f\"../data_v2/HomologousField/sample_{N}_{low}_{high}.json\", \"w\") as f:\n",
    "        d, s, e = create_data(N, low, high, ld, ud, lperiod, uperiod)\n",
    "        json.dump({\"N\": N, \"m\": low, \"M\": high, \"d\": d, \"s\": s, \"e\": e}, f, cls=NumpyEncoder)"
   ]
  },
  {
   "cell_type": "code",
   "execution_count": 10,
   "id": "b1794edd",
   "metadata": {},
   "outputs": [],
   "source": [
    "N = 1000; low = 10; high = 50; ld = 8; ud = 10; lperiod = 10; uperiod = 20\n",
    "with open(f\"../data_v2/HomologousField/sample_{N}_{low}_{high}.json\", \"w\") as f:\n",
    "        d, s, e = create_data(N, low, high, ld, ud, lperiod, uperiod)\n",
    "        json.dump({\"N\": N, \"m\": low, \"M\": high, \"d\": d, \"s\": s, \"e\": e}, f, cls=NumpyEncoder)"
   ]
  },
  {
   "cell_type": "code",
   "execution_count": 16,
   "id": "f67bf261",
   "metadata": {},
   "outputs": [],
   "source": [
    "N = 1000; low = 40; high = 85; ld = 8; ud = 10; lperiod = 10; uperiod = 20\n",
    "with open(f\"../data_v2/HomologousField/sample_{N}_{low}_{high}.json\", \"w\") as f:\n",
    "        d, s, e = create_data(N, low, high, ld, ud, lperiod, uperiod)\n",
    "        json.dump({\"N\": N, \"m\": low, \"M\": high, \"d\": d, \"s\": s, \"e\": e}, f, cls=NumpyEncoder)"
   ]
  },
  {
   "cell_type": "code",
   "execution_count": 18,
   "id": "44694f27",
   "metadata": {},
   "outputs": [],
   "source": [
    "N = 1000; low = 50; high = 100; ld = 8; ud = 10; lperiod = 20; uperiod = 25\n",
    "with open(f\"../data_v2/HomologousField/sample_{N}_{low}_{high}.json\", \"w\") as f:\n",
    "        d, s, e = create_data(N, low, high, ld, ud, lperiod, uperiod)\n",
    "        json.dump({\"N\": N, \"m\": low, \"M\": high, \"d\": d, \"s\": s, \"e\": e}, f, cls=NumpyEncoder)"
   ]
  },
  {
   "cell_type": "code",
   "execution_count": 14,
   "id": "cc40a38f",
   "metadata": {},
   "outputs": [],
   "source": [
    "N = 2000; low = 10; high = 50; ld = 8; ud = 10; lperiod = 10; uperiod = 20\n",
    "with open(f\"../data_v2/HomologousField/sample_{N}_{low}_{high}.json\", \"w\") as f:\n",
    "        d, s, e = create_data(N, low, high, ld, ud, lperiod, uperiod)\n",
    "        json.dump({\"N\": N, \"m\": low, \"M\": high, \"d\": d, \"s\": s, \"e\": e}, f, cls=NumpyEncoder)"
   ]
  },
  {
   "cell_type": "code",
   "execution_count": 19,
   "id": "56d3b7ff",
   "metadata": {},
   "outputs": [],
   "source": [
    "N = 2000; low = 50; high = 100; ld = 8; ud = 10; lperiod = 15; uperiod = 20\n",
    "with open(f\"../data_v2/HomologousField/sample_{N}_{low}_{high}.json\", \"w\") as f:\n",
    "        d, s, e = create_data(N, low, high, ld, ud, lperiod, uperiod)\n",
    "        json.dump({\"N\": N, \"m\": low, \"M\": high, \"d\": d, \"s\": s, \"e\": e}, f, cls=NumpyEncoder)"
   ]
  },
  {
   "cell_type": "code",
   "execution_count": null,
   "id": "26a7ae69",
   "metadata": {},
   "outputs": [],
   "source": []
  }
 ],
 "metadata": {
  "kernelspec": {
   "display_name": "Python 3 (ipykernel)",
   "language": "python",
   "name": "python3"
  },
  "language_info": {
   "codemirror_mode": {
    "name": "ipython",
    "version": 3
   },
   "file_extension": ".py",
   "mimetype": "text/x-python",
   "name": "python",
   "nbconvert_exporter": "python",
   "pygments_lexer": "ipython3",
   "version": "3.9.13"
  }
 },
 "nbformat": 4,
 "nbformat_minor": 5
}
