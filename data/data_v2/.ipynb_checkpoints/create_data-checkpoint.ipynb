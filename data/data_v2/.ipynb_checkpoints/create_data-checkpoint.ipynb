{
 "cells": [
  {
   "cell_type": "markdown",
   "metadata": {},
   "source": [
    "## Library and utils function"
   ]
  },
  {
   "cell_type": "code",
   "execution_count": 8,
   "metadata": {
    "executionInfo": {
     "elapsed": 2,
     "status": "ok",
     "timestamp": 1640276265002,
     "user": {
      "displayName": "Minh Tú Lê",
      "photoUrl": "https://lh3.googleusercontent.com/a-/AOh14GgL435uj6WKc47PWCViTv9cIlG2t32DsRYp7dHC=s64",
      "userId": "07915910653335020026"
     },
     "user_tz": -420
    },
    "id": "v6MYuBgOL8wz"
   },
   "outputs": [],
   "source": [
    "import numpy as np\n",
    "import random\n",
    "import os\n",
    "import json\n",
    "from numpyencoder import NumpyEncoder"
   ]
  },
  {
   "cell_type": "code",
   "execution_count": 9,
   "metadata": {
    "executionInfo": {
     "elapsed": 479,
     "status": "ok",
     "timestamp": 1640276381941,
     "user": {
      "displayName": "Minh Tú Lê",
      "photoUrl": "https://lh3.googleusercontent.com/a-/AOh14GgL435uj6WKc47PWCViTv9cIlG2t32DsRYp7dHC=s64",
      "userId": "07915910653335020026"
     },
     "user_tz": -420
    },
    "id": "20AzB9FRFYm0"
   },
   "outputs": [],
   "source": [
    "for i in range(1,6):\n",
    "    os.mkdir(\"Type\" + str(i) + \"Small\")\n",
    "    os.mkdir(\"Type\" + str(i) + \"Large\")"
   ]
  },
  {
   "cell_type": "code",
   "execution_count": 10,
   "metadata": {
    "executionInfo": {
     "elapsed": 4,
     "status": "ok",
     "timestamp": 1640275847878,
     "user": {
      "displayName": "Minh Tú Lê",
      "photoUrl": "https://lh3.googleusercontent.com/a-/AOh14GgL435uj6WKc47PWCViTv9cIlG2t32DsRYp7dHC=s64",
      "userId": "07915910653335020026"
     },
     "user_tz": -420
    },
    "id": "tNzN2HpMV7r-"
   },
   "outputs": [],
   "source": [
    "def createRandomSortedList(low=1, high=100, size=1):\n",
    "    arr = []\n",
    "    tmp = np.random.randint(low, high)\n",
    "\n",
    "    for x in range(size):\n",
    "        while tmp in arr:\n",
    "            tmp = random.randint(low, high)\n",
    "        arr.append(tmp)\n",
    "\n",
    "    arr.sort()\n",
    "    return np.array(arr)"
   ]
  },
  {
   "cell_type": "code",
   "execution_count": 11,
   "metadata": {},
   "outputs": [
    {
     "data": {
      "text/plain": [
       "array([ 1, 19, 29, 36, 40, 56, 61, 73, 75, 90])"
      ]
     },
     "execution_count": 11,
     "metadata": {},
     "output_type": "execute_result"
    }
   ],
   "source": [
    "# Example\n",
    "createRandomSortedList(1, 100, 10)"
   ]
  },
  {
   "cell_type": "markdown",
   "metadata": {},
   "source": [
    "## Create data function"
   ]
  },
  {
   "cell_type": "code",
   "execution_count": 12,
   "metadata": {},
   "outputs": [],
   "source": [
    "def create_data(N, m, M, r, K1, K2):\n",
    "    \"\"\"\n",
    "    Params:\n",
    "        N: number of fields\n",
    "        m: lower bound of number of field to harvest\n",
    "        M: upper bound of number of field to harvest \n",
    "        r: max total time between start time and end time to harvest\n",
    "        K1: lower bound of number of field to harvest in a day\n",
    "        K2: upper bound of number of field to harvest in a day\n",
    "    Return:\n",
    "        d: list of harvested quantity\n",
    "        s: list of start time to harvest\n",
    "        e: list of end time to harvest\n",
    "    \"\"\"\n",
    "    # estimated limit days\n",
    "    if K1 == K2:\n",
    "        rangeDay = int(N/K1) + 1  \n",
    "    else:\n",
    "        rangeDay = np.random.randint(N/K2, N/K1) + 1  \n",
    "\n",
    "    # yield per day\n",
    "    amount = np.random.randint(m, M + 1, size=rangeDay)\n",
    "    amount = np.sort(amount)\n",
    "\n",
    "    # the number of fields of that day was chosen at random\n",
    "    count = np.array([int(N/rangeDay)]*rangeDay)\n",
    "    while (np.sum(count) < N):\n",
    "        for i in range(rangeDay):\n",
    "            # prioritize dividing large fields first\n",
    "            day = rangeDay - 1 - i\n",
    "            count[day] += 1\n",
    "            if (np.sum(count) == N):\n",
    "                break\n",
    "\n",
    "    # divide the yield among the fields of the same day\n",
    "    d = []\n",
    "    s = []\n",
    "    e = []\n",
    "    for day in range(rangeDay):\n",
    "        mark = createRandomSortedList(1, amount[day], size=count[day] + 1)\n",
    "        mark[0] = 0\n",
    "        mark[count[day]] = amount[day]\n",
    "        for j in range(count[day]):\n",
    "            d.append(mark[j + 1] - mark[j])\n",
    "            start = max(day - np.random.randint(r), 0)\n",
    "            end = min(day + np.random.randint(r), rangeDay - 1)\n",
    "            s.append(start)\n",
    "            e.append(end)\n",
    "    e = np.array(e) - min(s)\n",
    "    s = np.array(s) - min(s)\n",
    "    return d, s, e"
   ]
  },
  {
   "cell_type": "markdown",
   "metadata": {},
   "source": [
    "## Create data"
   ]
  },
  {
   "cell_type": "code",
   "execution_count": 13,
   "metadata": {},
   "outputs": [],
   "source": [
    "r = [5, 5, 5, 10, 10]\n",
    "K1 = [4, 2, 10, 4, 2]\n",
    "K2 = [6, 3, 10, 6, 3]\n",
    "low = [10, 20, 30, 40, 50]\n",
    "high = [15, 30, 50, 75, 100]\n",
    "N = [10, 20, 30, 40, 50]\n",
    "for k in range(5):\n",
    "    for i in range(5):\n",
    "        for j in range(5):\n",
    "            with open(f\"Type{k+1}Small/sample_{N[i]}_{low[j]}_{high[j]}.json\", \"w\") as f:\n",
    "                d, s, e = create_data(N[i], low[j], high[j], r[k], K1[k], K2[k])\n",
    "                json.dump({\"N\": N[i], \"m\": low[j], \"M\": high[j], \"d\": d, \"s\": s, \"e\": e}, f, cls=NumpyEncoder)"
   ]
  },
  {
   "cell_type": "code",
   "execution_count": 14,
   "metadata": {},
   "outputs": [],
   "source": [
    "r = [5, 5, 5, 10, 10]\n",
    "K1 = [4, 2, 10, 4, 2]\n",
    "K2 = [6, 3, 10, 6, 3]\n",
    "low = [20, 30, 40, 50, 60]\n",
    "high = [30, 50, 75, 100, 125]\n",
    "N = [100, 250, 500, 750, 1000]\n",
    "for k in range(5):\n",
    "    for i in range(5):\n",
    "        for j in range(5):\n",
    "            with open(f\"Type{k+1}Large/sample_{N[i]}_{low[j]}_{high[j]}.json\", \"w\") as f:\n",
    "                d, s, e = create_data(N[i], low[j], high[j], r[k], K1[k], K2[k])\n",
    "                json.dump({\"N\": N[i], \"m\": low[j], \"M\": high[j], \"d\": d, \"s\": s, \"e\": e}, f, cls=NumpyEncoder)"
   ]
  }
 ],
 "metadata": {
  "colab": {
   "authorship_tag": "ABX9TyMgbyxSld5hfWxgrlNRhf6u",
   "collapsed_sections": [],
   "name": "CreateData.ipynb",
   "provenance": []
  },
  "kernelspec": {
   "display_name": "Python 3 (ipykernel)",
   "language": "python",
   "name": "python3"
  },
  "language_info": {
   "codemirror_mode": {
    "name": "ipython",
    "version": 3
   },
   "file_extension": ".py",
   "mimetype": "text/x-python",
   "name": "python",
   "nbconvert_exporter": "python",
   "pygments_lexer": "ipython3",
   "version": "3.9.13"
  },
  "vscode": {
   "interpreter": {
    "hash": "89b5003c12b78eb0a8b4e6cbd9b11603cd6f8f2ab72580664afe590a4d1fedae"
   }
  }
 },
 "nbformat": 4,
 "nbformat_minor": 1
}
