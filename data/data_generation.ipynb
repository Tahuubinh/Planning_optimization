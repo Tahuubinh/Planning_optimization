{
 "cells": [
  {
   "cell_type": "code",
   "execution_count": 98,
   "id": "e0c1a84c",
   "metadata": {},
   "outputs": [],
   "source": [
    "import numpy as np\n",
    "import random\n",
    "import os\n",
    "import json"
   ]
  },
  {
   "cell_type": "code",
   "execution_count": 94,
   "id": "f38d1af8",
   "metadata": {},
   "outputs": [],
   "source": [
    "def createData(file_name, N, m, M, numDay, day_to_remove_field = 1, num_day_to_keep_field = 1,\n",
    "               num_field_to_stop = 2, num_field_to_harvests = None, day_to_stop = None):\n",
    "    \n",
    "    \"\"\"\n",
    "    # Arguments\n",
    "        file_name: A Keras model.\n",
    "        N: Number of fields\n",
    "        m: lower bound of number of field to harvest \n",
    "        M: upper bound of number of field to harvest \n",
    "        numDay: number of day to harvest of a feasible solution \n",
    "        day_to_remove_field = day to stop to harvest some beginning field \n",
    "        num_day_to_keep_field = number of consecutive day to the next time to remove fields\n",
    "        num_field_to_stop = number of field to remove, \n",
    "        num_field_to_harvests = number of filed to harvest, \n",
    "        day_to_stop = day to remove number of field to harvest provided that M is still not surpass that number\n",
    "            \n",
    "    # Return\n",
    "        Problem with feasible solutions\n",
    "    \"\"\"\n",
    "    \n",
    "    if M > num_field_to_harvests:\n",
    "        raise ValueError('Value of `M` must not bigger than `num_field_to_harvests`')\n",
    "        \n",
    "    if not num_field_to_harvests:\n",
    "        num_field_to_harvests = M + num_field_to_stop\n",
    "    if not day_to_stop:\n",
    "        day_to_stop = numDay # non-stop process\n",
    "        \n",
    "    print(N,\" \",m,\" \",M)\n",
    "    dictionary = dict()\n",
    "    dictionary['N'] = N\n",
    "    dictionary['m'] = m\n",
    "    dictionary['M'] = M\n",
    "    \n",
    "    d = [0] * N\n",
    "    s = [0] * N\n",
    "    e = [0] * N\n",
    "    \n",
    "    # add fields to harvest and remove these field from list of field that are not considered\n",
    "    fields = [*range(N)]\n",
    "    field_to_harvests = [*range(M)]\n",
    "    del fields[:M]\n",
    "    \n",
    "    for day in range(numDay):\n",
    "        # change `field_to_harvests`\n",
    "        if day > day_to_remove_field and (day - day_to_remove_field) % num_day_to_keep_field == 0:\n",
    "            field_to_harvests += fields[:num_field_to_stop]\n",
    "            if len(field_to_harvests) > num_field_to_harvests + num_field_to_stop:\n",
    "                del field_to_harvests[:num_field_to_stop]\n",
    "            del fields[:num_field_to_stop]\n",
    "            \n",
    "        if day > day_to_stop:\n",
    "            # start remove fields provided that the number of field to harvest is not smaller than M\n",
    "            if len(field_to_harvests) > M + num_field_to_stop:\n",
    "                del field_to_harvests[:num_field_to_stop] \n",
    "           \n",
    "        # choose field to harvest\n",
    "        num_harvested_fields = random.randint(m, M)\n",
    "        harvested_fields = random.sample(field_to_harvests, num_harvested_fields)\n",
    "\n",
    "        \n",
    "        for field in harvested_fields:\n",
    "            # one more time to be harvested\n",
    "            d[field] += 1\n",
    "            \n",
    "            # set s to the first day to be harvested\n",
    "            if (s[field] == 0):\n",
    "                s[field] = day\n",
    "                \n",
    "            # e tracks the last day to be harvested\n",
    "            e[field] = day\n",
    "            \n",
    "    dictionary['d'] = d\n",
    "    dictionary['s'] = s\n",
    "    dictionary['e'] = e\n",
    "    \n",
    "    with open(file_name, \"w\") as outfile:\n",
    "        json.dump(dictionary, outfile)"
   ]
  },
  {
   "cell_type": "code",
   "execution_count": 95,
   "id": "e7cb221c",
   "metadata": {},
   "outputs": [],
   "source": [
    "def readData(file_name):\n",
    "    with open(file_name, 'r') as openfile:\n",
    "\n",
    "        # Reading from json file\n",
    "        json_object = json.load(openfile)\n",
    "    return json_object"
   ]
  },
  {
   "cell_type": "code",
   "execution_count": 96,
   "id": "d8140975",
   "metadata": {},
   "outputs": [
    {
     "name": "stdout",
     "output_type": "stream",
     "text": [
      "10   2   3\n"
     ]
    }
   ],
   "source": [
    "createData(\"sample.json\", 10, 2, 3, numDay = 20, day_to_remove_field = 5, num_field_to_stop = 2, num_day_to_keep_field = 2,\n",
    "           num_field_to_harvests = 6, day_to_stop = 15)"
   ]
  },
  {
   "cell_type": "code",
   "execution_count": 97,
   "id": "d144dd85",
   "metadata": {},
   "outputs": [
    {
     "data": {
      "text/plain": [
       "{'N': 10,\n",
       " 'm': 2,\n",
       " 'M': 3,\n",
       " 'd': [10, 5, 9, 4, 6, 0, 3, 5, 3, 3],\n",
       " 's': [1, 3, 1, 10, 7, 0, 15, 13, 12, 16],\n",
       " 'e': [9, 9, 11, 15, 15, 0, 17, 19, 17, 19]}"
      ]
     },
     "execution_count": 97,
     "metadata": {},
     "output_type": "execute_result"
    }
   ],
   "source": [
    "readData(\"sample.json\")"
   ]
  },
  {
   "cell_type": "code",
   "execution_count": null,
   "id": "e265a4d6",
   "metadata": {},
   "outputs": [],
   "source": []
  }
 ],
 "metadata": {
  "kernelspec": {
   "display_name": "Python 3 (ipykernel)",
   "language": "python",
   "name": "python3"
  },
  "language_info": {
   "codemirror_mode": {
    "name": "ipython",
    "version": 3
   },
   "file_extension": ".py",
   "mimetype": "text/x-python",
   "name": "python",
   "nbconvert_exporter": "python",
   "pygments_lexer": "ipython3",
   "version": "3.9.13"
  }
 },
 "nbformat": 4,
 "nbformat_minor": 5
}
