{
 "cells": [
  {
   "cell_type": "code",
   "execution_count": 98,
   "id": "e0c1a84c",
   "metadata": {},
   "outputs": [],
   "source": [
    "import numpy as np\n",
    "import random\n",
    "import os\n",
    "import json"
   ]
  },
  {
   "cell_type": "code",
   "execution_count": 106,
   "id": "f38d1af8",
   "metadata": {},
   "outputs": [],
   "source": [
    "def createData(folder_name, N, m, M, numDay, day_to_remove_field = 1, num_day_to_keep_field = 1,\n",
    "               num_field_to_stop = 2, num_field_to_harvests = None, day_to_stop = None):\n",
    "    \n",
    "    \"\"\"\n",
    "    # Arguments\n",
    "        folder_name: A Keras model.\n",
    "        N: Number of fields\n",
    "        m: lower bound of number of field to harvest \n",
    "        M: upper bound of number of field to harvest \n",
    "        numDay: number of day to harvest of a feasible solution \n",
    "        day_to_remove_field = day to stop to harvest some beginning field \n",
    "        num_day_to_keep_field = number of consecutive day to the next time to remove fields\n",
    "        num_field_to_stop = number of field to remove, \n",
    "        num_field_to_harvests = number of filed to harvest, \n",
    "        day_to_stop = day to remove number of field to harvest provided that M is still not surpass that number\n",
    "            \n",
    "    # Return\n",
    "        Problem with feasible solutions\n",
    "    \"\"\"\n",
    "    \n",
    "    if M > num_field_to_harvests:\n",
    "        raise ValueError('Value of `M` must not bigger than `num_field_to_harvests`')\n",
    "        \n",
    "    if not num_field_to_harvests:\n",
    "        num_field_to_harvests = M + num_field_to_stop\n",
    "    if not day_to_stop:\n",
    "        day_to_stop = numDay # non-stop process\n",
    "        \n",
    "    print(N,\" \",m,\" \",M)\n",
    "    dictionary = dict()\n",
    "    dictionary['N'] = N\n",
    "    dictionary['m'] = m\n",
    "    dictionary['M'] = M\n",
    "    \n",
    "    d = [0] * N\n",
    "    s = [0] * N\n",
    "    e = [0] * N\n",
    "    \n",
    "    # add fields to harvest and remove these field from list of field that are not considered\n",
    "    fields = [*range(N)]\n",
    "    field_to_harvests = [*range(M)]\n",
    "    del fields[:M]\n",
    "    \n",
    "    for day in range(numDay):\n",
    "        # change `field_to_harvests`\n",
    "        if day > day_to_remove_field and (day - day_to_remove_field) % num_day_to_keep_field == 0:\n",
    "            field_to_harvests += fields[:num_field_to_stop]\n",
    "            if len(field_to_harvests) > num_field_to_harvests + num_field_to_stop:\n",
    "                del field_to_harvests[:num_field_to_stop]\n",
    "            del fields[:num_field_to_stop]\n",
    "            \n",
    "        if day > day_to_stop:\n",
    "            # start remove fields provided that the number of field to harvest is not smaller than M\n",
    "            if len(field_to_harvests) > M + num_field_to_stop:\n",
    "                del field_to_harvests[:num_field_to_stop] \n",
    "           \n",
    "        # choose field to harvest\n",
    "        num_harvested_fields = random.randint(m, M)\n",
    "        harvested_fields = random.sample(field_to_harvests, num_harvested_fields)\n",
    "\n",
    "        \n",
    "        for field in harvested_fields:\n",
    "            # one more time to be harvested\n",
    "            d[field] += 1\n",
    "            \n",
    "            # set s to the first day to be harvested\n",
    "            if (s[field] == 0):\n",
    "                s[field] = day\n",
    "                \n",
    "            # e tracks the last day to be harvested\n",
    "            e[field] = day\n",
    "            \n",
    "    dictionary['d'] = d\n",
    "    dictionary['s'] = s\n",
    "    dictionary['e'] = e\n",
    "    \n",
    "    arguments = dict()\n",
    "    arguments['folder_name'] = folder_name\n",
    "    arguments['N'] = N\n",
    "    arguments['m'] = m\n",
    "    arguments['M'] = M\n",
    "    arguments['numDay'] = numDay\n",
    "    arguments['day_to_remove_field'] = day_to_remove_field\n",
    "    arguments['num_day_to_keep_field'] = num_day_to_keep_field\n",
    "    arguments['num_field_to_stop'] = num_field_to_stop\n",
    "    arguments['num_field_to_harvests'] = num_field_to_harvests\n",
    "    arguments['day_to_stop'] = day_to_stop\n",
    "    \n",
    "    try:\n",
    "        os.makedirs('./' + folder_name)\n",
    "    except OSError as e:\n",
    "        print(e)\n",
    "    \n",
    "    with open(folder_name + \"/arguments.json\", \"w\") as outfile:\n",
    "        json.dump(arguments, outfile)\n",
    "    \n",
    "    with open(folder_name + \"/data.json\", \"w\") as outfile:\n",
    "        json.dump(dictionary, outfile)"
   ]
  },
  {
   "cell_type": "code",
   "execution_count": 107,
   "id": "e7cb221c",
   "metadata": {},
   "outputs": [],
   "source": [
    "def readData(file_name):\n",
    "    with open(file_name, 'r') as openfile:\n",
    "\n",
    "        # Reading from json file\n",
    "        json_object = json.load(openfile)\n",
    "    return json_object"
   ]
  },
  {
   "cell_type": "code",
   "execution_count": 108,
   "id": "d8140975",
   "metadata": {},
   "outputs": [
    {
     "name": "stdout",
     "output_type": "stream",
     "text": [
      "10   2   3\n"
     ]
    }
   ],
   "source": [
    "createData(\"N10_m2_M3/1\", 10, 2, 3, numDay = 20, day_to_remove_field = 5, num_field_to_stop = 2, num_day_to_keep_field = 2,\n",
    "           num_field_to_harvests = 6, day_to_stop = 15)"
   ]
  },
  {
   "cell_type": "code",
   "execution_count": 102,
   "id": "d144dd85",
   "metadata": {},
   "outputs": [
    {
     "data": {
      "text/plain": [
       "{'N': 10,\n",
       " 'm': 2,\n",
       " 'M': 3,\n",
       " 'd': [9, 7, 8, 6, 4, 4, 4, 3, 4, 2],\n",
       " 's': [1, 1, 1, 7, 7, 11, 9, 14, 11, 17],\n",
       " 'e': [10, 8, 13, 15, 16, 16, 19, 19, 18, 18]}"
      ]
     },
     "execution_count": 102,
     "metadata": {},
     "output_type": "execute_result"
    }
   ],
   "source": [
    "readData(\"sample.json\")"
   ]
  },
  {
   "cell_type": "code",
   "execution_count": null,
   "id": "e265a4d6",
   "metadata": {},
   "outputs": [],
   "source": []
  }
 ],
 "metadata": {
  "kernelspec": {
   "display_name": "Python 3 (ipykernel)",
   "language": "python",
   "name": "python3"
  },
  "language_info": {
   "codemirror_mode": {
    "name": "ipython",
    "version": 3
   },
   "file_extension": ".py",
   "mimetype": "text/x-python",
   "name": "python",
   "nbconvert_exporter": "python",
   "pygments_lexer": "ipython3",
   "version": "3.9.13"
  }
 },
 "nbformat": 4,
 "nbformat_minor": 5
}
