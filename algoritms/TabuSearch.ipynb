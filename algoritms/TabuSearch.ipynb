{
  "nbformat": 4,
  "nbformat_minor": 0,
  "metadata": {
    "colab": {
      "provenance": [],
      "toc_visible": true
    },
    "kernelspec": {
      "name": "python3",
      "display_name": "Python 3"
    },
    "language_info": {
      "name": "python"
    }
  },
  "cells": [
    {
      "cell_type": "code",
      "execution_count": 1,
      "metadata": {
        "colab": {
          "base_uri": "https://localhost:8080/"
        },
        "id": "sv1FGxqBMO_h",
        "outputId": "f0c0af0f-71ea-4f4a-930d-1775ade1de13"
      },
      "outputs": [
        {
          "output_type": "stream",
          "name": "stdout",
          "text": [
            "Mounted at /content/drive\n"
          ]
        }
      ],
      "source": [
        "from google.colab import drive\n",
        "drive.mount('/content/drive')"
      ]
    },
    {
      "cell_type": "code",
      "source": [
        "%cd drive/MyDrive/tabu"
      ],
      "metadata": {
        "colab": {
          "base_uri": "https://localhost:8080/"
        },
        "id": "8JzMONCisvaq",
        "outputId": "6df45e77-af95-4407-e191-9a5e70b0390b"
      },
      "execution_count": 2,
      "outputs": [
        {
          "output_type": "stream",
          "name": "stdout",
          "text": [
            "/content/drive/MyDrive/tabu\n"
          ]
        }
      ]
    },
    {
      "cell_type": "code",
      "source": [
        "import numpy as np\n",
        "import copy\n",
        "import random \n",
        "import os\n",
        "import time\n",
        "import json"
      ],
      "metadata": {
        "id": "zD6hoORZpf1K"
      },
      "execution_count": 9,
      "outputs": []
    },
    {
      "cell_type": "markdown",
      "source": [
        "# Input"
      ],
      "metadata": {
        "id": "-rl9fVRXplzs"
      }
    },
    {
      "cell_type": "code",
      "source": [
        "def loadData(path):\n",
        "    f = open(path, \"r\")\n",
        "    data = json.load(f)\n",
        "\n",
        "    N, m, M, d, s, e = data[\"N\"], data[\"m\"], data[\"M\"], data[\"d\"], data[\"s\"], data[\"e\"]\n",
        "    date = np.max(e)+1\n",
        "    # print(d)\n",
        "    # print(s)\n",
        "    # print(e)\n",
        "    # print(date)\n",
        "    return  N, m, M, d, s, e, date"
      ],
      "metadata": {
        "id": "L6obBZXPppPq"
      },
      "execution_count": 12,
      "outputs": []
    },
    {
      "cell_type": "code",
      "source": [
        "N, m, M, d, s, e, date = loadData('sample_50_50_100.json')\n",
        "seed = 5"
      ],
      "metadata": {
        "id": "4S84rZe7tfQs"
      },
      "execution_count": 32,
      "outputs": []
    },
    {
      "cell_type": "markdown",
      "source": [
        "# Cost function\n"
      ],
      "metadata": {
        "id": "LBJ8VcVrxTMs"
      }
    },
    {
      "cell_type": "code",
      "source": [
        "def getCost(N, m, M, d, date, sol):\n",
        "    amount = np.zeros(date)\n",
        "    penalty = 0\n",
        "    for i in range(N):\n",
        "        amount[sol[i]] += int(d[i])\n",
        "    for i in amount:\n",
        "        if (i > M):\n",
        "            penalty += i-M\n",
        "        elif (i > 0 and i < m):\n",
        "            penalty += m-i\n",
        "    amount_temp = np.delete(amount, amount == 0)\n",
        "    cost = np.max(amount_temp)-np.min(amount_temp)\n",
        "    return int(cost+1000*penalty)"
      ],
      "metadata": {
        "id": "ba6RSRM_xRpE"
      },
      "execution_count": 26,
      "outputs": []
    },
    {
      "cell_type": "markdown",
      "source": [
        "# Init"
      ],
      "metadata": {
        "id": "2_dJCP_usgeR"
      }
    },
    {
      "cell_type": "code",
      "source": [
        "def initialSolution(N, m, M, d, s, e, date, SEED):\n",
        "    random.seed(SEED)\n",
        "    sol = [0]*N\n",
        "    amount = np.zeros(date)\n",
        "    global flag\n",
        "    flag = [0]*date\n",
        "\n",
        "    # cánh đồng nào thu nhiều thì ưu tiên chọn trước\n",
        "    order = np.argsort(-np.array(d))\n",
        "    for i in order:\n",
        "        temp1 = [j for j in range(s[i], e[i]+1) if flag[j] <= 1]\n",
        "        temp2 = [j for j in range(s[i], e[i]+1) if (flag[j] == 2 and amount[j] + d[i] <= M)]\n",
        "        if (len(temp1) != 0):\n",
        "            day = random.choice(temp1)\n",
        "        elif (len(temp2) != 0):\n",
        "            day = random.choice(temp2)\n",
        "        else:\n",
        "            day = random.randint(s[i], e[i])\n",
        "\n",
        "        sol[i] = day\n",
        "        amount[day] += d[i]\n",
        "        if (amount[day] > M):\n",
        "            flag[day] = 3  # đã đến giới hạn\n",
        "        elif (amount[day] >= m):\n",
        "            flag[day] = 2  # vừa đủ\n",
        "        elif (amount[day] > 0):\n",
        "            flag[day] = 1  # chưa đủ         \n",
        "    return sol"
      ],
      "metadata": {
        "id": "D3SXvrdGskKB"
      },
      "execution_count": 16,
      "outputs": []
    },
    {
      "cell_type": "code",
      "source": [
        "initialSolution(N, m, M, d, s, e, date, SEED=seed)"
      ],
      "metadata": {
        "id": "zOaf-VDU5Ubf"
      },
      "execution_count": null,
      "outputs": []
    },
    {
      "cell_type": "markdown",
      "source": [
        "# Tabu Search"
      ],
      "metadata": {
        "id": "fYR2fBZGzNp2"
      }
    },
    {
      "cell_type": "markdown",
      "source": [
        "## Search for next solution"
      ],
      "metadata": {
        "id": "h69PH2AVz_L0"
      }
    },
    {
      "cell_type": "code",
      "source": [
        "def search_next_solution(sol,SEED):    \n",
        "    random.seed(SEED)   \n",
        "    select_field = -1\n",
        "    select_day = -1\n",
        "    new_search_objective = 1e9\n",
        "    global flag\n",
        "    flag = [0]*date\n",
        "\n",
        "    amount = np.zeros(date)\n",
        "    penalty =0\n",
        "    for i in range(N):\n",
        "        amount[sol[i]]+=d[i]\n",
        "    for i in range(date):    \n",
        "        penalty+=max(amount[i]-M,0)+max(0,min(amount[i],m-amount[i]))\n",
        "\n",
        "        if (amount[i]>M):\n",
        "            flag[i]=3 #đã đến giới hạn\n",
        "        elif (amount[i]>=m):\n",
        "            flag[i]=2\n",
        "        elif (amount[i]>0):\n",
        "            flag[i]=1\n",
        "    # cost = np.max(amount)-np.min(amount)+1000*penalty\n",
        "    \n",
        "    randomOrder = np.arange(N)\n",
        "    random.shuffle( randomOrder)\n",
        "    for i in  randomOrder:\n",
        "        if tabuList[i] > 0:\n",
        "            continue             \n",
        "        for j in range(s[i],e[i]+1):\n",
        "            if (j == sol[i] or flag[j]==0 or flag[j]==3):\n",
        "                continue    \n",
        "            max(i-M,0)+max(0,min(i,m-i))\n",
        "            oldPenalty = max(amount[sol[i]]-M,0)+max(0,min(amount[sol[i]],m-amount[sol[i]])) + max(amount[j]-M,0)+max(0,min(amount[j],m-amount[j]))\n",
        "            amount[sol[i]]-=d[i]\n",
        "            amount[j]+=d[i]\n",
        "            newPenalty = max(amount[sol[i]]-M,0)+max(0,min(amount[sol[i]],m-amount[sol[i]])) + max(amount[j]-M,0)+max(0,min(amount[j],m-amount[j]))\n",
        "            newSolObjective = np.max(amount)-np.min(amount) + 1000*(penalty-oldPenalty+newPenalty)\n",
        "            #restore\n",
        "            amount[sol[i]]+=d[i]\n",
        "            amount[j]-=d[i]\n",
        "\n",
        "            if newSolObjective < new_search_objective:\n",
        "                new_search_objective = newSolObjective\n",
        "                select_field = i\n",
        "                select_day = j\n",
        "\n",
        "    return select_field, select_day, new_search_objective"
      ],
      "metadata": {
        "id": "LbLqETkF0JYe"
      },
      "execution_count": 18,
      "outputs": []
    },
    {
      "cell_type": "markdown",
      "source": [
        "## TabuSearch Algorithm"
      ],
      "metadata": {
        "id": "5m6k0VTn0Cv0"
      }
    },
    {
      "cell_type": "code",
      "source": [
        "def TabuSearch(outputPath,Name,SEED):   \n",
        "    solve = initialSolution(N, m, M, d, s, e, date, SEED)\n",
        "    bestSolve = np.array(solve)\n",
        "    \n",
        "    global tabuList\n",
        "    itmax = 300\n",
        "    it=0\n",
        "    tabuList = np.zeros(N)\n",
        "    tbl = 7\n",
        "    tbl_min = 5\n",
        "    tbl_max = 9\n",
        "    stable = 0\n",
        "    stable_limit = 10\n",
        "    restart_freq = 25\n",
        "\n",
        "    f =  open(outputPath,\"w\")\n",
        "    f.write(\"Name: \"+Name+\"\\n\")\n",
        "\n",
        "    f.write(\"Gen{}: {} {}\\n\".format(it,getCost(N, m, M, d, date, solve),getCost(N, m, M, d, date, bestSolve)))\n",
        "\n",
        "    while (it < itmax):\n",
        "        it+=1\n",
        "\n",
        "        #Move\n",
        "        oldSolve = np.array(solve)\n",
        "        old_search_objective = getCost(N, m, M, d, date, solve)\n",
        "        field, day, new_search_objective = search_next_solution(solve,SEED+it)\n",
        "        solve[field] = day\n",
        "        search_objective = new_search_objective\n",
        "\n",
        "        #Update tabu\n",
        "        for i in range(N):\n",
        "            if tabuList[i] > 0:\n",
        "                tabuList[i] -= 1\n",
        "        tabuList[field] = tbl\n",
        "\n",
        "        if new_search_objective < old_search_objective:\n",
        "            if tbl > tbl_min:\n",
        "                tbl -= 1\n",
        "        else:\n",
        "            if tbl < tbl_max:\n",
        "                tbl += 1\n",
        "\n",
        "        #Update last improved solution\n",
        "        if new_search_objective < old_search_objective:\n",
        "            # print(\"Improved\")\n",
        "            stable = 0\n",
        "        else:\n",
        "            stable += 1\n",
        "\n",
        "        #Cập nhật lời giải kỉ lục\n",
        "        if new_search_objective < getCost(N, m, M, d, date, bestSolve):\n",
        "            bestSolve = np.array(solve)\n",
        "        elif stable == stable_limit:   \n",
        "            # print(\"Jump\")\n",
        "            # solve = np.array(lastImproveSolve) \n",
        "            stable = 0\n",
        "            # Chuyển sang không gian khác\n",
        "            solve = initialSolution(N, m, M, d, s, e, date, SEED+it)\n",
        "            #Update tabu\n",
        "            tabuList = np.zeros(N)\n",
        "          \n",
        "        # print(\"Gen{}: {} {}\".format(it,getCost(solve),getCost(bestSolve)))\n",
        "        # show(bestSolve) \n",
        "        f.write(\"Gen{}: {} {}\\n\".format(it,getCost(N, m, M, d, date, solve),getCost(N, m, M, d, date, bestSolve)))\n",
        "    f.close()\n",
        "    return bestSolve"
      ],
      "metadata": {
        "id": "qxhWlYatzPie"
      },
      "execution_count": 35,
      "outputs": []
    },
    {
      "cell_type": "code",
      "source": [
        "TabuSearch('123.txt', '50_50_100',SEED = 10)"
      ],
      "metadata": {
        "colab": {
          "base_uri": "https://localhost:8080/"
        },
        "id": "sqwUjcKX76K_",
        "outputId": "1bfd89ba-f154-44af-b41b-ac4eae697e4b"
      },
      "execution_count": 36,
      "outputs": [
        {
          "output_type": "execute_result",
          "data": {
            "text/plain": [
              "array([ 1,  1,  0,  0,  1,  1,  3,  0,  0,  2,  1,  0,  3,  3,  2,  5,  2,\n",
              "        2,  4,  6,  5,  4,  7,  2,  4,  6,  2,  4,  7,  7,  5,  6,  3,  4,\n",
              "        4,  7,  5, 10, 10,  8,  8,  6,  6,  9,  8, 10,  7,  9, 10,  9])"
            ]
          },
          "metadata": {},
          "execution_count": 36
        }
      ]
    },
    {
      "cell_type": "code",
      "source": [
        "[1, 1, 0, 1, 0, 0, 0, 1, 1, 0]"
      ],
      "metadata": {
        "id": "2xjiOrHW-60Y"
      },
      "execution_count": null,
      "outputs": []
    },
    {
      "cell_type": "code",
      "source": [
        "getCost(N, m, M, d, date, np.array([ 1,  1,  0,  0,  1,  1,  3,  0,  0,  2,  1,  0,  3,  3,  2,  5,  2,\n",
        "        2,  4,  6,  5,  4,  7,  2,  4,  6,  2,  4,  7,  7,  5,  6,  3,  4,\n",
        "        4,  7,  5, 10, 10,  8,  8,  6,  6,  9,  8, 10,  7,  9, 10,  9]))"
      ],
      "metadata": {
        "colab": {
          "base_uri": "https://localhost:8080/"
        },
        "id": "us80pOzC9Spx",
        "outputId": "98a5389f-31d1-443f-9414-59c396e1f57b"
      },
      "execution_count": 38,
      "outputs": [
        {
          "output_type": "execute_result",
          "data": {
            "text/plain": [
              "7"
            ]
          },
          "metadata": {},
          "execution_count": 38
        }
      ]
    },
    {
      "cell_type": "markdown",
      "source": [
        "#Output log"
      ],
      "metadata": {
        "id": "RJT20b6GpgKR"
      }
    },
    {
      "cell_type": "code",
      "source": [
        "def logOutput(outputPath,Name,time,SEED,sol):\n",
        "    f = open(outputPath,\"w\")\n",
        "    f.write(\"Name: \"+Name+\"\\n\")\n",
        "    f.write(\"Time: {} \\n\".format(time))\n",
        "    f.write(\"Result: {}\\n\".format(getCost(sol)))\n",
        "    f.write(\"Solution: \")\n",
        "    for i in sol:\n",
        "        f.write(\" {}\".format(i))\n",
        "    f.write(\"\\n\")\n",
        "    amount = np.zeros(date)\n",
        "    day = [[] for i in range(date)]\n",
        "    for i in range(N):\n",
        "        amount[sol[i]]+=d[i]\n",
        "        day[sol[i]].append(i)\n",
        "\n",
        "    for i in range(date):\n",
        "        f.write(\"{} : {} ({})\\n\".format(i,day[i],amount[i]))\n",
        "        # print(\"----sum: {}\".format(amount[i]))"
      ],
      "metadata": {
        "id": "e8iYctMopjp5"
      },
      "execution_count": null,
      "outputs": []
    }
  ]
}