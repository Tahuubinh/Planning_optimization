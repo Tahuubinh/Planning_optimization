{
  "cells": [
    {
      "cell_type": "code",
      "execution_count": 26,
      "metadata": {
        "colab": {
          "background_save": true
        },
        "id": "0V8RDWmy95hC"
      },
      "outputs": [],
      "source": [
        "import numpy as np\n",
        "import copy\n",
        "import random\n",
        "import os\n",
        "import time\n",
        "import json\n",
        "import glob\n"
      ]
    },
    {
      "cell_type": "code",
      "execution_count": 54,
      "metadata": {},
      "outputs": [],
      "source": [
        "penalty_rate = 1000\n",
        "npop_list = [50, 150, 300]\n",
        "ngen = 300\n",
        "nseed = 5"
      ]
    },
    {
      "cell_type": "code",
      "execution_count": 13,
      "metadata": {
        "id": "LkgSZeXK-Ahe"
      },
      "outputs": [],
      "source": [
        "def loadData(path):\n",
        "    f = open(path, \"r\")\n",
        "    data = json.load(f)\n",
        "\n",
        "    N, m, M, d, s, e = data[\"N\"], data[\"m\"], data[\"M\"], data[\"d\"], data[\"s\"], data[\"e\"]\n",
        "    date = np.max(e)+1\n",
        "    return  N, m, M, d, s, e, date"
      ]
    },
    {
      "cell_type": "code",
      "execution_count": 24,
      "metadata": {
        "id": "Ocs15Ydm5oSG"
      },
      "outputs": [],
      "source": [
        "def cost(N, m, M, d, date, sol):\n",
        "    amount = np.zeros(date)\n",
        "    penalty = 0\n",
        "    for i in range(N):\n",
        "        amount[sol[i]] += int(d[i])\n",
        "    for i in amount:\n",
        "        if (i > M):\n",
        "            penalty += i-M\n",
        "        elif (i > 0 and i < m):\n",
        "            penalty += m-i\n",
        "    amount_temp = np.delete(amount, amount == 0)\n",
        "    cost = np.max(amount_temp)-np.min(amount_temp)\n",
        "    return int(cost+penalty_rate*penalty)\n"
      ]
    },
    {
      "cell_type": "code",
      "execution_count": 18,
      "metadata": {
        "id": "i0RKUh3h5iig"
      },
      "outputs": [],
      "source": [
        "def initialSolution(N, m, M, d, s, e, date, SEED):\n",
        "    random.seed(SEED)\n",
        "    sol = [0]*N\n",
        "    amount = np.zeros(date)\n",
        "    global flag\n",
        "    flag = [0]*date\n",
        "\n",
        "    # cánh đồng nào thu nhiều thì ưu tiên chọn trước\n",
        "    order = np.argsort(-np.array(d))\n",
        "    for i in order:\n",
        "        temp1 = [j for j in range(s[i], e[i]+1) if flag[j] <= 1]\n",
        "        temp2 = [j for j in range(s[i], e[i]+1)\n",
        "                 if (flag[j] == 2 and amount[j] + d[i] <= M)]\n",
        "        if (len(temp1) != 0):\n",
        "            day = random.choice(temp1)\n",
        "        elif (len(temp2) != 0):\n",
        "            day = random.choice(temp2)\n",
        "        else:\n",
        "            day = random.randint(s[i], e[i])\n",
        "\n",
        "        sol[i] = day\n",
        "        amount[day] += d[i]\n",
        "        if (amount[day] > M):\n",
        "            flag[day] = 3  # đã đến giới hạn\n",
        "        elif (amount[day] >= m):\n",
        "            flag[day] = 2\n",
        "        elif (amount[day] > 0):\n",
        "            flag[day] = 1\n",
        "            \n",
        "    return sol\n"
      ]
    },
    {
      "cell_type": "code",
      "execution_count": 19,
      "metadata": {
        "id": "t57IoiXEFpyq"
      },
      "outputs": [],
      "source": [
        "def sort(sol):\n",
        "    return sol[-1]\n"
      ]
    },
    {
      "cell_type": "code",
      "execution_count": 57,
      "metadata": {
        "id": "-9E7eomPPQis"
      },
      "outputs": [],
      "source": [
        "def GA(N, m, M, d, s, e, date, npop, SEED):\n",
        "    random.seed(SEED)\n",
        "    # khởi tạo quần thể\n",
        "    population = []\n",
        "    solution_gen = []\n",
        "    for i in range(npop):\n",
        "        sol = [0]*N\n",
        "        sol = initialSolution(N, m, M, d, s, e, date, SEED + i*10)\n",
        "        sol.append(cost(N, m, M, d, date, sol))\n",
        "        population.append(sol)\n",
        "    population.sort(reverse=False, key=sort)  # sắp xếp cá thể theo cost\n",
        "\n",
        "    for k in range(ngen):\n",
        "        lamda = random.uniform(0, 1)  # tỉ lệ lai ghép và đột biến\n",
        "        if (lamda < 0.9):\n",
        "            # lai ghép\n",
        "            new_generation = []\n",
        "            size = int(len(population)/10)\n",
        "            for _ in range(int((len(population) - size)/2)):\n",
        "                # chọn cá thể lai ghép đầu tiên\n",
        "                number1 = random.randint(0, int(len(population)/2))\n",
        "                # chọn cá thể lai ghép thư hai\n",
        "                number2 = random.randint(0, int(len(population)/2))\n",
        "                while (number1 == number2):\n",
        "                    number2 = random.randint(0, int(len(population)/2))\n",
        "                x1 = random.randint(1, N-1)  # chọn điểm cắt lai ghép thứ 1\n",
        "                x2 = random.randint(1, N-1)  # chọn điểm cắt lai ghép thứ 2\n",
        "\n",
        "                while (x1 == x2):\n",
        "                    x1 = random.randint(1, N-1)\n",
        "                if (x1 > x2):\n",
        "                    x1, x2 = x2, x1\n",
        "\n",
        "                new_individual_1 = [0]*N  # cá thể con 1\n",
        "                new_individual_2 = [0]*N  # cá thể con 2\n",
        "                for i in range(x1):\n",
        "                    new_individual_1[i] = population[number1][i]\n",
        "                    new_individual_2[i] = population[number2][i]\n",
        "                for i in range(x1, x2):\n",
        "                    new_individual_1[i] = population[number2][i]\n",
        "                    new_individual_2[i] = population[number1][i]\n",
        "                for i in range(x2, N):\n",
        "                    new_individual_1[i] = population[number1][i]\n",
        "                    new_individual_2[i] = population[number2][i]\n",
        "\n",
        "                new_individual_1.append(cost(N, m, M, d, date, new_individual_1))\n",
        "                new_generation.append(new_individual_1)\n",
        "                new_individual_2.append(cost(N, m, M, d, date, new_individual_2))\n",
        "                new_generation.append(new_individual_2)\n",
        "\n",
        "            for i in population[:size]:\n",
        "                new_generation.append(i)\n",
        "            population = new_generation\n",
        "            # sắp xếp cá thể theo cost\n",
        "            population.sort(reverse=False, key=sort)\n",
        "        else:\n",
        "            # đột biến\n",
        "            # chọn cá thể đột biến\n",
        "            number3 = random.randint(0, len(population)-1)\n",
        "            x = random.randint(0, N-1)  # chọn gen đột biến\n",
        "            while (s[x] == e[x]):\n",
        "                x = random.randint(0, N-1)\n",
        "\n",
        "            new_individual_3 = [0]*N  # khởi tạo cá thể đột biến\n",
        "            for i in range(N):\n",
        "                new_individual_3[i] = population[number3][i]\n",
        "\n",
        "            new_individual_3[x] = random.randint(s[x], e[x])\n",
        "            while (new_individual_3[x] == population[number3][x]):\n",
        "                new_individual_3[x] = random.randint(s[x], e[x])\n",
        "            new_individual_3 = np.append(\n",
        "                new_individual_3, cost(N, m, M, d, date, new_individual_3))\n",
        "            del population[-1]  # xóa cá thể kém\n",
        "            population.append(new_individual_3) # thêm cá thể đột biến vào quần thể\n",
        "            # sắp xếp cá thể theo cost\n",
        "            population.sort(reverse=False, key=sort) \n",
        "        solution_gen.append(population[0])\n",
        "        # if (population[0][-1] < 50):\n",
        "        #     break\n",
        "    return solution_gen\n"
      ]
    },
    {
      "cell_type": "code",
      "execution_count": 50,
      "metadata": {
        "id": "2T4wEBSSeeE6"
      },
      "outputs": [],
      "source": [
        "def logOutput_solution(outputPath, Name, time, N, d, date, SEED, solution_gen):\n",
        "    sol = solution_gen[-1]\n",
        "    outputPath = outputPath + \".txt\"\n",
        "    f = open(outputPath, \"w\")\n",
        "    f.write(\"Name: \"+Name+\"\\n\")\n",
        "    f.write(\"Time: {} \\n\".format(time))\n",
        "    f.write(\"Result: {}\\n\".format(sol[-1]))\n",
        "    f.write(\"Solution: \")\n",
        "    for i in range(len(sol)-1):\n",
        "        f.write(\" {}\".format(sol[i]))\n",
        "    f.write(\"\\n\")\n",
        "    amount = np.zeros(date)\n",
        "    day = [[] for i in range(date)]\n",
        "    for i in range(N):\n",
        "        amount[sol[i]] += d[i]\n",
        "        day[sol[i]].append(i)\n",
        "\n",
        "    for i in range(date):\n",
        "        f.write(\"{}:\".format(i))\n",
        "        for j in range(len(day[i])):\n",
        "            f.write(\" {}\".format(day[i][j]))\n",
        "        f.write(\" ({})\\n\".format(amount[i]))\n"
      ]
    },
    {
      "cell_type": "code",
      "execution_count": 52,
      "metadata": {
        "id": "a-vbMWjk2Zh_"
      },
      "outputs": [],
      "source": [
        "def logOutput_gen(outputPath, Name, SEED, solution_gen):\n",
        "    sol = solution_gen[-1]\n",
        "    outputPath = outputPath + \"_gen.txt\"\n",
        "    f = open(outputPath, \"w\")\n",
        "    f.write(\"File name: \" + Name + \"\\n\")\n",
        "    f.write(\"Result: \" + str(sol[-1]) + \"\\n\")\n",
        "    for i in range(1, len(solution_gen)+1):\n",
        "        f.write(\"Gen \" + str(i) + \": \" + str(solution_gen[i-1][-1]) + \"\\n\")\n"
      ]
    },
    {
      "cell_type": "markdown",
      "metadata": {
        "id": "qejYbR_p8o7n"
      },
      "source": [
        "# Test"
      ]
    },
    {
      "cell_type": "code",
      "execution_count": 59,
      "metadata": {},
      "outputs": [
        {
          "name": "stdout",
          "output_type": "stream",
          "text": [
            "Population:  50\n",
            "Type:  Type1Small  | Name:  20-30-50\n",
            "Type:  Type1Small  | Name:  20-20-30\n",
            "Type:  Type1Small  | Name:  20-10-15\n",
            "Type:  Type1Small  | Name:  50-40-75\n",
            "Type:  Type1Small  | Name:  10-10-15\n",
            "Type:  Type1Small  | Name:  50-50-100\n",
            "Type:  Type1Small  | Name:  20-50-100\n",
            "Type:  Type1Small  | Name:  10-20-30\n",
            "Type:  Type1Small  | Name:  40-30-50\n",
            "Type:  Type1Small  | Name:  30-50-100\n",
            "Type:  Type1Small  | Name:  40-50-100\n",
            "Type:  Type1Small  | Name:  10-30-50\n",
            "Type:  Type1Small  | Name:  40-10-15\n",
            "Type:  Type1Small  | Name:  30-40-75\n",
            "Type:  Type1Small  | Name:  40-20-30\n",
            "Type:  Type1Small  | Name:  30-10-15\n",
            "Type:  Type1Small  | Name:  40-40-75\n",
            "Type:  Type1Small  | Name:  10-50-100\n",
            "Type:  Type1Small  | Name:  30-20-30\n",
            "Type:  Type1Small  | Name:  30-30-50\n",
            "Type:  Type1Small  | Name:  10-40-75\n",
            "Type:  Type1Small  | Name:  50-20-30\n",
            "Type:  Type1Small  | Name:  50-10-15\n",
            "Type:  Type1Small  | Name:  20-40-75\n",
            "Type:  Type1Small  | Name:  50-30-50\n",
            "Population:  150\n",
            "Type:  Type1Small  | Name:  20-30-50\n",
            "Type:  Type1Small  | Name:  20-20-30\n",
            "Type:  Type1Small  | Name:  20-10-15\n",
            "Type:  Type1Small  | Name:  50-40-75\n",
            "Type:  Type1Small  | Name:  10-10-15\n",
            "Type:  Type1Small  | Name:  50-50-100\n",
            "Type:  Type1Small  | Name:  20-50-100\n",
            "Type:  Type1Small  | Name:  10-20-30\n",
            "Type:  Type1Small  | Name:  40-30-50\n",
            "Type:  Type1Small  | Name:  30-50-100\n",
            "Type:  Type1Small  | Name:  40-50-100\n",
            "Type:  Type1Small  | Name:  10-30-50\n",
            "Type:  Type1Small  | Name:  40-10-15\n",
            "Type:  Type1Small  | Name:  30-40-75\n",
            "Type:  Type1Small  | Name:  40-20-30\n",
            "Type:  Type1Small  | Name:  30-10-15\n",
            "Type:  Type1Small  | Name:  40-40-75\n",
            "Type:  Type1Small  | Name:  10-50-100\n",
            "Type:  Type1Small  | Name:  30-20-30\n",
            "Type:  Type1Small  | Name:  30-30-50\n",
            "Type:  Type1Small  | Name:  10-40-75\n",
            "Type:  Type1Small  | Name:  50-20-30\n",
            "Type:  Type1Small  | Name:  50-10-15\n",
            "Type:  Type1Small  | Name:  20-40-75\n",
            "Type:  Type1Small  | Name:  50-30-50\n",
            "Population:  300\n",
            "Type:  Type1Small  | Name:  20-30-50\n",
            "Type:  Type1Small  | Name:  20-20-30\n",
            "Type:  Type1Small  | Name:  20-10-15\n",
            "Type:  Type1Small  | Name:  50-40-75\n",
            "Type:  Type1Small  | Name:  10-10-15\n",
            "Type:  Type1Small  | Name:  50-50-100\n",
            "Type:  Type1Small  | Name:  20-50-100\n",
            "Type:  Type1Small  | Name:  10-20-30\n",
            "Type:  Type1Small  | Name:  40-30-50\n",
            "Type:  Type1Small  | Name:  30-50-100\n",
            "Type:  Type1Small  | Name:  40-50-100\n",
            "Type:  Type1Small  | Name:  10-30-50\n",
            "Type:  Type1Small  | Name:  40-10-15\n",
            "Type:  Type1Small  | Name:  30-40-75\n",
            "Type:  Type1Small  | Name:  40-20-30\n",
            "Type:  Type1Small  | Name:  30-10-15\n",
            "Type:  Type1Small  | Name:  40-40-75\n",
            "Type:  Type1Small  | Name:  10-50-100\n",
            "Type:  Type1Small  | Name:  30-20-30\n",
            "Type:  Type1Small  | Name:  30-30-50\n",
            "Type:  Type1Small  | Name:  10-40-75\n",
            "Type:  Type1Small  | Name:  50-20-30\n",
            "Type:  Type1Small  | Name:  50-10-15\n",
            "Type:  Type1Small  | Name:  20-40-75\n",
            "Type:  Type1Small  | Name:  50-30-50\n"
          ]
        }
      ],
      "source": [
        "for npop in npop_list:\n",
        "    print(\"Population: \", npop)\n",
        "    if os.path.exists(f\"../results/GeneticAlgorithm/{npop}_population\") == False:\n",
        "        os.mkdir(f\"../results/GeneticAlgorithm/{npop}_population\")\n",
        "    for path in glob.glob(\"../data/data_v2/Type1Small/**.json\"):\n",
        "        type, name = path.split(\"/\")[-2:]\n",
        "        name_list = name[:-5].split(\"_\")\n",
        "        name_fix = \"-\".join(name_list[-3:])\n",
        "        print(\"Type: \", type, \" | Name: \", name_fix)\n",
        "        if os.path.exists(f\"../results/GeneticAlgorithm/{npop}_population/{type}\") == False:\n",
        "            os.mkdir(f\"../results/GeneticAlgorithm/{npop}_population/{type}\")\n",
        "        N, m, M, d, s, e, date = loadData(f\"../data/data_v2/{type}/{name}\")\n",
        "        for SEED in range(nseed):\n",
        "            outputPath = \"../results/GeneticAlgorithm/\" + str(npop) + \"_population/\" + type + \"/\" + \"GA(\" + name_fix + \")_seed\" + str(SEED)\n",
        "            start = time.time()\n",
        "            solution_gen = GA(N, m, M, d, s, e, date, npop, SEED)\n",
        "            end = time.time()\n",
        "            logOutput_solution(outputPath, name_fix, end-start, N, d, date, SEED, solution_gen)\n",
        "            logOutput_gen(outputPath, name_fix, SEED, solution_gen)"
      ]
    },
    {
      "cell_type": "code",
      "execution_count": 60,
      "metadata": {
        "id": "NTBNiR0ae7pJ"
      },
      "outputs": [
        {
          "name": "stdout",
          "output_type": "stream",
          "text": [
            "Population:  150\n",
            "Type:  Type5Large  | Name:  250-30-50\n",
            "Type:  Type5Large  | Name:  100-50-100\n",
            "Type:  Type5Large  | Name:  500-50-100\n",
            "Type:  Type5Large  | Name:  500-20-30\n",
            "Type:  Type5Large  | Name:  750-50-100\n",
            "Type:  Type5Large  | Name:  1000-60-125\n"
          ]
        },
        {
          "ename": "KeyboardInterrupt",
          "evalue": "",
          "output_type": "error",
          "traceback": [
            "\u001b[0;31m---------------------------------------------------------------------------\u001b[0m",
            "\u001b[0;31mKeyboardInterrupt\u001b[0m                         Traceback (most recent call last)",
            "\u001b[1;32m/Users/huyenvtk1/Downloads/studying/code/Planning_optimization/archived/GA.ipynb Cell 12'\u001b[0m in \u001b[0;36m<cell line: 3>\u001b[0;34m()\u001b[0m\n\u001b[1;32m     <a href='vscode-notebook-cell:/Users/huyenvtk1/Downloads/studying/code/Planning_optimization/archived/GA.ipynb#ch0000012?line=11'>12</a>\u001b[0m outputPath \u001b[39m=\u001b[39m \u001b[39m\"\u001b[39m\u001b[39m../results/GeneticAlgorithm/\u001b[39m\u001b[39m\"\u001b[39m \u001b[39m+\u001b[39m \u001b[39mstr\u001b[39m(npop) \u001b[39m+\u001b[39m \u001b[39m\"\u001b[39m\u001b[39m_population/\u001b[39m\u001b[39m\"\u001b[39m \u001b[39m+\u001b[39m \u001b[39mtype\u001b[39m \u001b[39m+\u001b[39m \u001b[39m\"\u001b[39m\u001b[39m/\u001b[39m\u001b[39m\"\u001b[39m \u001b[39m+\u001b[39m \u001b[39m\"\u001b[39m\u001b[39mGA(\u001b[39m\u001b[39m\"\u001b[39m \u001b[39m+\u001b[39m name_fix \u001b[39m+\u001b[39m \u001b[39m\"\u001b[39m\u001b[39m)_seed\u001b[39m\u001b[39m\"\u001b[39m \u001b[39m+\u001b[39m \u001b[39mstr\u001b[39m(SEED)\n\u001b[1;32m     <a href='vscode-notebook-cell:/Users/huyenvtk1/Downloads/studying/code/Planning_optimization/archived/GA.ipynb#ch0000012?line=12'>13</a>\u001b[0m start \u001b[39m=\u001b[39m time\u001b[39m.\u001b[39mtime()\n\u001b[0;32m---> <a href='vscode-notebook-cell:/Users/huyenvtk1/Downloads/studying/code/Planning_optimization/archived/GA.ipynb#ch0000012?line=13'>14</a>\u001b[0m solution_gen \u001b[39m=\u001b[39m GA(N, m, M, d, s, e, date, npop, SEED)\n\u001b[1;32m     <a href='vscode-notebook-cell:/Users/huyenvtk1/Downloads/studying/code/Planning_optimization/archived/GA.ipynb#ch0000012?line=14'>15</a>\u001b[0m end \u001b[39m=\u001b[39m time\u001b[39m.\u001b[39mtime()\n\u001b[1;32m     <a href='vscode-notebook-cell:/Users/huyenvtk1/Downloads/studying/code/Planning_optimization/archived/GA.ipynb#ch0000012?line=15'>16</a>\u001b[0m logOutput_solution(outputPath, name_fix, end\u001b[39m-\u001b[39mstart, N, d, date, SEED, solution_gen)\n",
            "\u001b[1;32m/Users/huyenvtk1/Downloads/studying/code/Planning_optimization/archived/GA.ipynb Cell 7'\u001b[0m in \u001b[0;36mGA\u001b[0;34m(N, m, M, d, s, e, date, npop, SEED)\u001b[0m\n\u001b[1;32m     <a href='vscode-notebook-cell:/Users/huyenvtk1/Downloads/studying/code/Planning_optimization/archived/GA.ipynb#ch0000007?line=42'>43</a>\u001b[0m     new_individual_1[i] \u001b[39m=\u001b[39m population[number1][i]\n\u001b[1;32m     <a href='vscode-notebook-cell:/Users/huyenvtk1/Downloads/studying/code/Planning_optimization/archived/GA.ipynb#ch0000007?line=43'>44</a>\u001b[0m     new_individual_2[i] \u001b[39m=\u001b[39m population[number2][i]\n\u001b[0;32m---> <a href='vscode-notebook-cell:/Users/huyenvtk1/Downloads/studying/code/Planning_optimization/archived/GA.ipynb#ch0000007?line=45'>46</a>\u001b[0m new_individual_1\u001b[39m.\u001b[39mappend(cost(N, m, M, d, date, new_individual_1))\n\u001b[1;32m     <a href='vscode-notebook-cell:/Users/huyenvtk1/Downloads/studying/code/Planning_optimization/archived/GA.ipynb#ch0000007?line=46'>47</a>\u001b[0m new_generation\u001b[39m.\u001b[39mappend(new_individual_1)\n\u001b[1;32m     <a href='vscode-notebook-cell:/Users/huyenvtk1/Downloads/studying/code/Planning_optimization/archived/GA.ipynb#ch0000007?line=47'>48</a>\u001b[0m new_individual_2\u001b[39m.\u001b[39mappend(cost(N, m, M, d, date, new_individual_2))\n",
            "\u001b[1;32m/Users/huyenvtk1/Downloads/studying/code/Planning_optimization/archived/GA.ipynb Cell 4'\u001b[0m in \u001b[0;36mcost\u001b[0;34m(N, m, M, d, date, sol)\u001b[0m\n\u001b[1;32m      <a href='vscode-notebook-cell:/Users/huyenvtk1/Downloads/studying/code/Planning_optimization/archived/GA.ipynb#ch0000004?line=2'>3</a>\u001b[0m penalty \u001b[39m=\u001b[39m \u001b[39m0\u001b[39m\n\u001b[1;32m      <a href='vscode-notebook-cell:/Users/huyenvtk1/Downloads/studying/code/Planning_optimization/archived/GA.ipynb#ch0000004?line=3'>4</a>\u001b[0m \u001b[39mfor\u001b[39;00m i \u001b[39min\u001b[39;00m \u001b[39mrange\u001b[39m(N):\n\u001b[0;32m----> <a href='vscode-notebook-cell:/Users/huyenvtk1/Downloads/studying/code/Planning_optimization/archived/GA.ipynb#ch0000004?line=4'>5</a>\u001b[0m     amount[sol[i]] \u001b[39m+\u001b[39m\u001b[39m=\u001b[39m \u001b[39mint\u001b[39m(d[i])\n\u001b[1;32m      <a href='vscode-notebook-cell:/Users/huyenvtk1/Downloads/studying/code/Planning_optimization/archived/GA.ipynb#ch0000004?line=5'>6</a>\u001b[0m \u001b[39mfor\u001b[39;00m i \u001b[39min\u001b[39;00m amount:\n\u001b[1;32m      <a href='vscode-notebook-cell:/Users/huyenvtk1/Downloads/studying/code/Planning_optimization/archived/GA.ipynb#ch0000004?line=6'>7</a>\u001b[0m     \u001b[39mif\u001b[39;00m (i \u001b[39m>\u001b[39m M):\n",
            "\u001b[0;31mKeyboardInterrupt\u001b[0m: "
          ]
        }
      ],
      "source": [
        "npop = 150\n",
        "print(\"Population: \", npop)\n",
        "for path in glob.glob(\"../data/data_v2/**/**.json\"):\n",
        "    type, name = path.split(\"/\")[-2:]\n",
        "    name_list = name[:-5].split(\"_\")\n",
        "    name_fix = \"-\".join(name_list[-3:])\n",
        "    print(\"Type: \", type, \" | Name: \", name_fix)\n",
        "    if os.path.exists(f\"../results/GeneticAlgorithm/{npop}_population/{type}\") == False:\n",
        "        os.mkdir(f\"../results/GeneticAlgorithm/{npop}_population/{type}\")\n",
        "    N, m, M, d, s, e, date = loadData(f\"../data/data_v2/{type}/{name}\")\n",
        "    for SEED in range(nseed):\n",
        "        outputPath = \"../results/GeneticAlgorithm/\" + str(npop) + \"_population/\" + type + \"/\" + \"GA(\" + name_fix + \")_seed\" + str(SEED)\n",
        "        start = time.time()\n",
        "        solution_gen = GA(N, m, M, d, s, e, date, npop, SEED)\n",
        "        end = time.time()\n",
        "        logOutput_solution(outputPath, name_fix, end-start, N, d, date, SEED, solution_gen)\n",
        "        logOutput_gen(outputPath, name_fix, SEED, solution_gen)"
      ]
    }
  ],
  "metadata": {
    "colab": {
      "provenance": []
    },
    "kernelspec": {
      "display_name": "Python 3.9.12 ('base')",
      "language": "python",
      "name": "python3"
    },
    "language_info": {
      "codemirror_mode": {
        "name": "ipython",
        "version": 3
      },
      "file_extension": ".py",
      "mimetype": "text/x-python",
      "name": "python",
      "nbconvert_exporter": "python",
      "pygments_lexer": "ipython3",
      "version": "3.9.12"
    },
    "vscode": {
      "interpreter": {
        "hash": "89b5003c12b78eb0a8b4e6cbd9b11603cd6f8f2ab72580664afe590a4d1fedae"
      }
    }
  },
  "nbformat": 4,
  "nbformat_minor": 0
}
