{
  "cells": [
    {
      "cell_type": "code",
      "execution_count": 24,
      "metadata": {
        "colab": {
          "background_save": true
        },
        "id": "0V8RDWmy95hC"
      },
      "outputs": [],
      "source": [
        "import numpy as np\n",
        "import copy\n",
        "import random\n",
        "import os\n",
        "import time\n",
        "import json\n",
        "import glob\n"
      ]
    },
    {
      "cell_type": "code",
      "execution_count": 25,
      "metadata": {},
      "outputs": [],
      "source": [
        "penalty_rate = 1000\n",
        "npop_list = [50, 150, 300]\n",
        "ngen = 300\n",
        "nseed = 5\n",
        "beta = 1\n"
      ]
    },
    {
      "cell_type": "code",
      "execution_count": 26,
      "metadata": {
        "id": "LkgSZeXK-Ahe"
      },
      "outputs": [],
      "source": [
        "def loadData(path):\n",
        "    f = open(path, \"r\")\n",
        "    data = json.load(f)\n",
        "\n",
        "    N, m, M, d, s, e = data[\"N\"], data[\"m\"], data[\"M\"], data[\"d\"], data[\"s\"], data[\"e\"]\n",
        "    date = np.max(e)+1\n",
        "    return N, m, M, d, s, e, date\n"
      ]
    },
    {
      "cell_type": "code",
      "execution_count": 27,
      "metadata": {
        "id": "Ocs15Ydm5oSG"
      },
      "outputs": [],
      "source": [
        "def cost(N, m, M, d, date, sol):\n",
        "    amount = np.zeros(date)\n",
        "    penalty = 0\n",
        "    for i in range(N):\n",
        "        amount[sol[i]] += int(d[i])\n",
        "    for i in amount:\n",
        "        if (i > M):\n",
        "            penalty += i-M\n",
        "        elif (i > 0 and i < m):\n",
        "            penalty += m-i\n",
        "    amount_temp = np.delete(amount, amount == 0)\n",
        "    cost = np.max(amount_temp)-np.min(amount_temp)\n",
        "    return int(cost+penalty_rate*penalty)\n"
      ]
    },
    {
      "cell_type": "code",
      "execution_count": 28,
      "metadata": {
        "id": "i0RKUh3h5iig"
      },
      "outputs": [],
      "source": [
        "def initialSolution(N, m, M, d, s, e, date, SEED):\n",
        "    random.seed(SEED)\n",
        "    sol = [0]*N\n",
        "    amount = np.zeros(date)\n",
        "    global flag\n",
        "    flag = [0]*date\n",
        "\n",
        "    # cánh đồng nào thu nhiều thì ưu tiên chọn trước\n",
        "    order = np.argsort(-np.array(d))\n",
        "    for i in order:\n",
        "        temp1 = [j for j in range(s[i], e[i]+1) if flag[j] <= 1]\n",
        "        temp2 = [j for j in range(s[i], e[i]+1)\n",
        "                 if (flag[j] == 2 and amount[j] + d[i] <= M)]\n",
        "        if (len(temp1) != 0):\n",
        "            day = random.choice(temp1)\n",
        "        elif (len(temp2) != 0):\n",
        "            day = random.choice(temp2)\n",
        "        else:\n",
        "            day = random.randint(s[i], e[i])\n",
        "\n",
        "        sol[i] = day\n",
        "        amount[day] += d[i]\n",
        "        if (amount[day] > M):\n",
        "            flag[day] = 3  # đã đến giới hạn\n",
        "        elif (amount[day] >= m):\n",
        "            flag[day] = 2\n",
        "        elif (amount[day] > 0):\n",
        "            flag[day] = 1\n",
        "\n",
        "    return sol\n"
      ]
    },
    {
      "cell_type": "code",
      "execution_count": 29,
      "metadata": {
        "id": "t57IoiXEFpyq"
      },
      "outputs": [],
      "source": [
        "def sort(sol):\n",
        "    return sol[-1]\n"
      ]
    },
    {
      "cell_type": "code",
      "execution_count": 30,
      "metadata": {},
      "outputs": [],
      "source": [
        "def roulette_wheel_selection(p):\n",
        "    ''' Roulette Wheel Selection is a method of parent \n",
        "    selection for breeding. We take the cummulative sum of probabilities\n",
        "    and select the first parent whose cummulative sum is greater than\n",
        "    random number'''\n",
        "\n",
        "    c = np.cumsum(p)\n",
        "    r = sum(p) * np.random.rand()\n",
        "    ind = np.argwhere(r <= c)\n",
        "\n",
        "    return ind[0][0]\n"
      ]
    },
    {
      "cell_type": "code",
      "execution_count": 31,
      "metadata": {
        "id": "-9E7eomPPQis"
      },
      "outputs": [],
      "source": [
        "def GA(N, m, M, d, s, e, date, npop, SEED):\n",
        "    random.seed(SEED)\n",
        "    # khởi tạo quần thể\n",
        "    population = []\n",
        "    solution_gen = []\n",
        "    for i in range(npop):\n",
        "        sol = [0]*N\n",
        "        sol = initialSolution(N, m, M, d, s, e, date, SEED + i*10)\n",
        "        sol.append(cost(N, m, M, d, date, sol))\n",
        "        population.append(sol)\n",
        "    population.sort(reverse=False, key=sort)  # sắp xếp cá thể theo cost\n",
        "\n",
        "    for k in range(ngen):\n",
        "        costs = []\n",
        "        for i in range(len(population)):\n",
        "            costs.append(population[i][-1])                                       \n",
        "        costs = np.array(costs)\n",
        "        avg_cost = np.mean(costs)                                                   \n",
        "        if avg_cost != 0:\n",
        "            costs = costs/avg_cost\n",
        "        probs = np.exp(-beta*costs)   \n",
        "        lamda = random.uniform(0, 1)  # tỉ lệ lai ghép và đột biến\n",
        "        if (lamda < 0.9):\n",
        "            # lai ghép\n",
        "            new_generation = []\n",
        "            size = int(len(population)/10)\n",
        "            for _ in range(int((len(population) - size)/2)):\n",
        "                # chọn cá thể lai ghép đầu tiên\n",
        "                # number1 = random.randint(0, int(len(population)/2))\n",
        "                number1 = roulette_wheel_selection(probs)\n",
        "                # chọn cá thể lai ghép thư hai\n",
        "                # number2 = random.randint(0, int(len(population)/2))\n",
        "                number2 = roulette_wheel_selection(probs)\n",
        "                while (number1 == number2):\n",
        "                    number2 = roulette_wheel_selection(probs)\n",
        "                x1 = random.randint(1, N-1)  # chọn điểm cắt lai ghép thứ 1\n",
        "                x2 = random.randint(1, N-1)  # chọn điểm cắt lai ghép thứ 2\n",
        "\n",
        "                while (x1 == x2):\n",
        "                    x1 = random.randint(1, N-1)\n",
        "                if (x1 > x2):\n",
        "                    x1, x2 = x2, x1\n",
        "\n",
        "                new_individual_1 = [0]*N  # cá thể con 1\n",
        "                new_individual_2 = [0]*N  # cá thể con 2\n",
        "                for i in range(x1):\n",
        "                    new_individual_1[i] = population[number1][i]\n",
        "                    new_individual_2[i] = population[number2][i]\n",
        "                for i in range(x1, x2):\n",
        "                    new_individual_1[i] = population[number2][i]\n",
        "                    new_individual_2[i] = population[number1][i]\n",
        "                for i in range(x2, N):\n",
        "                    new_individual_1[i] = population[number1][i]\n",
        "                    new_individual_2[i] = population[number2][i]\n",
        "\n",
        "                new_individual_1.append(\n",
        "                    cost(N, m, M, d, date, new_individual_1))\n",
        "                new_generation.append(new_individual_1)\n",
        "                new_individual_2.append(\n",
        "                    cost(N, m, M, d, date, new_individual_2))\n",
        "                new_generation.append(new_individual_2)\n",
        "\n",
        "            for i in population[:size]:\n",
        "                new_generation.append(i)\n",
        "            population = new_generation\n",
        "            # sắp xếp cá thể theo cost\n",
        "            population.sort(reverse=False, key=sort)\n",
        "        else:\n",
        "            # đột biến\n",
        "            # chọn cá thể đột biến\n",
        "            number3 = random.randint(0, len(population)-1)\n",
        "            x = random.randint(0, N-1)  # chọn gen đột biến\n",
        "            while (s[x] == e[x]):\n",
        "                x = random.randint(0, N-1)\n",
        "\n",
        "            new_individual_3 = [0]*N  # khởi tạo cá thể đột biến\n",
        "            for i in range(N):\n",
        "                new_individual_3[i] = population[number3][i]\n",
        "\n",
        "            new_individual_3[x] = random.randint(s[x], e[x])\n",
        "            while (new_individual_3[x] == population[number3][x]):\n",
        "                new_individual_3[x] = random.randint(s[x], e[x])\n",
        "            new_individual_3 = np.append(\n",
        "                new_individual_3, cost(N, m, M, d, date, new_individual_3))\n",
        "            del population[-1]  # xóa cá thể kém\n",
        "            # thêm cá thể đột biến vào quần thể\n",
        "            population.append(new_individual_3)\n",
        "            # sắp xếp cá thể theo cost\n",
        "            population.sort(reverse=False, key=sort)\n",
        "        solution_gen.append(population[0])\n",
        "        # if (population[0][-1] < 50):\n",
        "        #     break\n",
        "    return solution_gen\n"
      ]
    },
    {
      "cell_type": "code",
      "execution_count": 32,
      "metadata": {
        "id": "2T4wEBSSeeE6"
      },
      "outputs": [],
      "source": [
        "def logOutput_solution(outputPath, Name, time, N, d, date, SEED, solution_gen):\n",
        "    sol = solution_gen[-1]\n",
        "    outputPath = outputPath + \".txt\"\n",
        "    f = open(outputPath, \"w\")\n",
        "    f.write(\"Name: \"+Name+\"\\n\")\n",
        "    f.write(\"Time: {} \\n\".format(time))\n",
        "    f.write(\"Result: {}\\n\".format(sol[-1]))\n",
        "    f.write(\"Solution: \")\n",
        "    for i in range(len(sol)-1):\n",
        "        f.write(\" {}\".format(sol[i]))\n",
        "    f.write(\"\\n\")\n",
        "    amount = np.zeros(date)\n",
        "    day = [[] for i in range(date)]\n",
        "    for i in range(N):\n",
        "        amount[sol[i]] += d[i]\n",
        "        day[sol[i]].append(i)\n",
        "\n",
        "    for i in range(date):\n",
        "        f.write(\"{}:\".format(i))\n",
        "        for j in range(len(day[i])):\n",
        "            f.write(\" {}\".format(day[i][j]))\n",
        "        f.write(\" ({})\\n\".format(amount[i]))\n"
      ]
    },
    {
      "cell_type": "code",
      "execution_count": 33,
      "metadata": {
        "id": "a-vbMWjk2Zh_"
      },
      "outputs": [],
      "source": [
        "def logOutput_gen(outputPath, Name, SEED, solution_gen):\n",
        "    sol = solution_gen[-1]\n",
        "    outputPath = outputPath + \"_gen.txt\"\n",
        "    f = open(outputPath, \"w\")\n",
        "    f.write(\"File name: \" + Name + \"\\n\")\n",
        "    f.write(\"Result: \" + str(sol[-1]) + \"\\n\")\n",
        "    for i in range(1, len(solution_gen)+1):\n",
        "        f.write(\"Gen \" + str(i) + \": \" + str(solution_gen[i-1][-1]) + \"\\n\")\n"
      ]
    },
    {
      "cell_type": "markdown",
      "metadata": {
        "id": "qejYbR_p8o7n"
      },
      "source": [
        "# Test"
      ]
    },
    {
      "cell_type": "code",
      "execution_count": 34,
      "metadata": {},
      "outputs": [
        {
          "name": "stdout",
          "output_type": "stream",
          "text": [
            "Population:  50\n",
            "Type:  Type1Small  | Name:  20-30-50\n",
            "Type:  Type1Small  | Name:  20-20-30\n",
            "Type:  Type1Small  | Name:  20-10-15\n",
            "Type:  Type1Small  | Name:  50-40-75\n",
            "Type:  Type1Small  | Name:  10-10-15\n",
            "Type:  Type1Small  | Name:  50-50-100\n",
            "Type:  Type1Small  | Name:  20-50-100\n",
            "Type:  Type1Small  | Name:  10-20-30\n",
            "Type:  Type1Small  | Name:  40-30-50\n",
            "Type:  Type1Small  | Name:  30-50-100\n",
            "Type:  Type1Small  | Name:  40-50-100\n",
            "Type:  Type1Small  | Name:  10-30-50\n",
            "Type:  Type1Small  | Name:  40-10-15\n",
            "Type:  Type1Small  | Name:  30-40-75\n",
            "Type:  Type1Small  | Name:  40-20-30\n",
            "Type:  Type1Small  | Name:  30-10-15\n",
            "Type:  Type1Small  | Name:  40-40-75\n",
            "Type:  Type1Small  | Name:  10-50-100\n",
            "Type:  Type1Small  | Name:  30-20-30\n",
            "Type:  Type1Small  | Name:  30-30-50\n",
            "Type:  Type1Small  | Name:  10-40-75\n",
            "Type:  Type1Small  | Name:  50-20-30\n",
            "Type:  Type1Small  | Name:  50-10-15\n",
            "Type:  Type1Small  | Name:  20-40-75\n",
            "Type:  Type1Small  | Name:  50-30-50\n",
            "Population:  150\n",
            "Type:  Type1Small  | Name:  20-30-50\n",
            "Type:  Type1Small  | Name:  20-20-30\n",
            "Type:  Type1Small  | Name:  20-10-15\n",
            "Type:  Type1Small  | Name:  50-40-75\n",
            "Type:  Type1Small  | Name:  10-10-15\n",
            "Type:  Type1Small  | Name:  50-50-100\n",
            "Type:  Type1Small  | Name:  20-50-100\n",
            "Type:  Type1Small  | Name:  10-20-30\n",
            "Type:  Type1Small  | Name:  40-30-50\n",
            "Type:  Type1Small  | Name:  30-50-100\n",
            "Type:  Type1Small  | Name:  40-50-100\n",
            "Type:  Type1Small  | Name:  10-30-50\n",
            "Type:  Type1Small  | Name:  40-10-15\n",
            "Type:  Type1Small  | Name:  30-40-75\n",
            "Type:  Type1Small  | Name:  40-20-30\n",
            "Type:  Type1Small  | Name:  30-10-15\n",
            "Type:  Type1Small  | Name:  40-40-75\n",
            "Type:  Type1Small  | Name:  10-50-100\n",
            "Type:  Type1Small  | Name:  30-20-30\n",
            "Type:  Type1Small  | Name:  30-30-50\n",
            "Type:  Type1Small  | Name:  10-40-75\n",
            "Type:  Type1Small  | Name:  50-20-30\n",
            "Type:  Type1Small  | Name:  50-10-15\n",
            "Type:  Type1Small  | Name:  20-40-75\n",
            "Type:  Type1Small  | Name:  50-30-50\n",
            "Population:  300\n",
            "Type:  Type1Small  | Name:  20-30-50\n",
            "Type:  Type1Small  | Name:  20-20-30\n",
            "Type:  Type1Small  | Name:  20-10-15\n",
            "Type:  Type1Small  | Name:  50-40-75\n",
            "Type:  Type1Small  | Name:  10-10-15\n",
            "Type:  Type1Small  | Name:  50-50-100\n",
            "Type:  Type1Small  | Name:  20-50-100\n",
            "Type:  Type1Small  | Name:  10-20-30\n",
            "Type:  Type1Small  | Name:  40-30-50\n",
            "Type:  Type1Small  | Name:  30-50-100\n",
            "Type:  Type1Small  | Name:  40-50-100\n",
            "Type:  Type1Small  | Name:  10-30-50\n",
            "Type:  Type1Small  | Name:  40-10-15\n",
            "Type:  Type1Small  | Name:  30-40-75\n",
            "Type:  Type1Small  | Name:  40-20-30\n",
            "Type:  Type1Small  | Name:  30-10-15\n",
            "Type:  Type1Small  | Name:  40-40-75\n",
            "Type:  Type1Small  | Name:  10-50-100\n",
            "Type:  Type1Small  | Name:  30-20-30\n",
            "Type:  Type1Small  | Name:  30-30-50\n",
            "Type:  Type1Small  | Name:  10-40-75\n",
            "Type:  Type1Small  | Name:  50-20-30\n",
            "Type:  Type1Small  | Name:  50-10-15\n",
            "Type:  Type1Small  | Name:  20-40-75\n",
            "Type:  Type1Small  | Name:  50-30-50\n"
          ]
        }
      ],
      "source": [
        "for npop in npop_list:\n",
        "    print(\"Population: \", npop)\n",
        "    if os.path.exists(f\"../results/GeneticAlgorithm/{npop}_population\") == False:\n",
        "        os.mkdir(f\"../results/GeneticAlgorithm/{npop}_population\")\n",
        "    for path in glob.glob(\"../data/data_v2/Type1Small/**.json\"):\n",
        "        type, name = path.split(\"/\")[-2:]\n",
        "        name_list = name[:-5].split(\"_\")\n",
        "        name_fix = \"-\".join(name_list[-3:])\n",
        "        print(\"Type: \", type, \" | Name: \", name_fix)\n",
        "        if os.path.exists(f\"../results/GeneticAlgorithm/{npop}_population/{type}\") == False:\n",
        "            os.mkdir(f\"../results/GeneticAlgorithm/{npop}_population/{type}\")\n",
        "        N, m, M, d, s, e, date = loadData(f\"../data/data_v2/{type}/{name}\")\n",
        "        for SEED in range(nseed):\n",
        "            outputPath = \"../results/GeneticAlgorithm/\" + \\\n",
        "                str(npop) + \"_population/\" + type + \"/\" + \\\n",
        "                \"GA(\" + name_fix + \")_seed\" + str(SEED)\n",
        "            start = time.time()\n",
        "            solution_gen = GA(N, m, M, d, s, e, date, npop, SEED)\n",
        "            end = time.time()\n",
        "            logOutput_solution(outputPath, name_fix, end -\n",
        "                               start, N, d, date, SEED, solution_gen)\n",
        "            logOutput_gen(outputPath, name_fix, SEED, solution_gen)\n"
      ]
    },
    {
      "cell_type": "code",
      "execution_count": null,
      "metadata": {},
      "outputs": [],
      "source": [
        "npop = 150\n",
        "print(\"Population: \", npop)\n",
        "for path in glob.glob(\"../data/data_v2/**/**.json\"):\n",
        "    type, name = path.split(\"/\")[-2:]\n",
        "    name_list = name[:-5].split(\"_\")\n",
        "    name_fix = \"-\".join(name_list[-3:])\n",
        "    print(\"Type: \", type, \" | Name: \", name_fix)\n",
        "    if os.path.exists(f\"../results/GeneticAlgorithm/{npop}_population/{type}\") == False:\n",
        "        os.mkdir(f\"../results/GeneticAlgorithm/{npop}_population/{type}\")\n",
        "    N, m, M, d, s, e, date = loadData(f\"../data/data_v2/{type}/{name}\")\n",
        "    for SEED in range(nseed):\n",
        "        outputPath = \"../results/GeneticAlgorithm/\" + \\\n",
        "            str(npop) + \"_population/\" + type + \"/\" + \\\n",
        "            \"GA(\" + name_fix + \")_seed\" + str(SEED)\n",
        "        start = time.time()\n",
        "        solution_gen = GA(N, m, M, d, s, e, date, npop, SEED)\n",
        "        end = time.time()\n",
        "        logOutput_solution(outputPath, name_fix, end-start,\n",
        "                           N, d, date, SEED, solution_gen)\n",
        "        logOutput_gen(outputPath, name_fix, SEED, solution_gen)\n"
      ]
    },
    {
      "cell_type": "code",
      "execution_count": null,
      "metadata": {},
      "outputs": [],
      "source": []
    }
  ],
  "metadata": {
    "colab": {
      "provenance": []
    },
    "kernelspec": {
      "display_name": "Python 3.9.12 ('base')",
      "language": "python",
      "name": "python3"
    },
    "language_info": {
      "codemirror_mode": {
        "name": "ipython",
        "version": 3
      },
      "file_extension": ".py",
      "mimetype": "text/x-python",
      "name": "python",
      "nbconvert_exporter": "python",
      "pygments_lexer": "ipython3",
      "version": "3.9.12"
    },
    "vscode": {
      "interpreter": {
        "hash": "89b5003c12b78eb0a8b4e6cbd9b11603cd6f8f2ab72580664afe590a4d1fedae"
      }
    }
  },
  "nbformat": 4,
  "nbformat_minor": 0
}
