{
 "cells": [
  {
   "cell_type": "code",
   "execution_count": 1,
   "id": "3b0fe7d3",
   "metadata": {},
   "outputs": [],
   "source": [
    "from ortools.linear_solver import pywraplp\n",
    "from ortools.init import pywrapinit\n",
    "import random\n",
    "import math\n",
    "import json\n",
    "import os\n",
    "from pathlib import Path\n",
    "import time\n",
    "import glob\n",
    "#LINK_PROJECT = Path(os.path.abspath(__file__)).parent.parent\n",
    "from numpyencoder import NumpyEncoder"
   ]
  },
  {
   "cell_type": "code",
   "execution_count": 15,
   "id": "f148d517",
   "metadata": {},
   "outputs": [],
   "source": [
    "def import_data(input_file):\n",
    "    with open(input_file) as f:\n",
    "        data = json.load(f)\n",
    "        return data\n",
    "    \n",
    "def export(output_file, solution):\n",
    "    if len(solution) == 3:\n",
    "        with open(output_file, \"w+\") as f:\n",
    "            json.dump({\"Time\": solution[\"time\"], \"Result\": solution[\"obj\"],\n",
    "                      \"Solution\": solution[\"field\"]}, f, cls=NumpyEncoder)\n",
    "    else:\n",
    "        with open(output_file, \"w+\") as f:\n",
    "            json.dump({\"Time\": solution[\"time\"], \"Result\": solution[\"obj\"]}, f, cls=NumpyEncoder)\n",
    "    \n",
    "def process(input_file, output_file, time_limit):\n",
    "    data = import_data(input_file)\n",
    "    solution = Greedy(data, time_limit)\n",
    "    export(output_file, solution)"
   ]
  },
  {
   "cell_type": "code",
   "execution_count": 36,
   "id": "41af3a3d",
   "metadata": {},
   "outputs": [],
   "source": [
    "data = import_data('../data/data_v2/HomologousField/sample_100_10_50.json')"
   ]
  },
  {
   "cell_type": "code",
   "execution_count": 39,
   "id": "427a6a9f",
   "metadata": {},
   "outputs": [
    {
     "name": "stdout",
     "output_type": "stream",
     "text": [
      "100\n",
      "30.0\n",
      "30\n",
      "3\n",
      "4\n",
      "20\n",
      "10\n"
     ]
    },
    {
     "data": {
      "text/plain": [
       "{'time': 0.0,\n",
       " 'field': [2,\n",
       "  2,\n",
       "  2,\n",
       "  6,\n",
       "  6,\n",
       "  6,\n",
       "  10,\n",
       "  10,\n",
       "  10,\n",
       "  13,\n",
       "  13,\n",
       "  13,\n",
       "  15,\n",
       "  15,\n",
       "  15,\n",
       "  19,\n",
       "  19,\n",
       "  19,\n",
       "  22,\n",
       "  22,\n",
       "  22,\n",
       "  24,\n",
       "  24,\n",
       "  24,\n",
       "  28,\n",
       "  28,\n",
       "  28,\n",
       "  32,\n",
       "  32,\n",
       "  32,\n",
       "  35,\n",
       "  35,\n",
       "  35,\n",
       "  38,\n",
       "  38,\n",
       "  38,\n",
       "  41,\n",
       "  41,\n",
       "  41,\n",
       "  45,\n",
       "  45,\n",
       "  45,\n",
       "  47,\n",
       "  47,\n",
       "  47,\n",
       "  50,\n",
       "  50,\n",
       "  50,\n",
       "  51,\n",
       "  51,\n",
       "  51,\n",
       "  54,\n",
       "  54,\n",
       "  54,\n",
       "  57,\n",
       "  57,\n",
       "  57,\n",
       "  60,\n",
       "  60,\n",
       "  60,\n",
       "  64,\n",
       "  64,\n",
       "  64,\n",
       "  64,\n",
       "  68,\n",
       "  68,\n",
       "  68,\n",
       "  68,\n",
       "  73,\n",
       "  73,\n",
       "  73,\n",
       "  73,\n",
       "  77,\n",
       "  77,\n",
       "  77,\n",
       "  77,\n",
       "  80,\n",
       "  80,\n",
       "  80,\n",
       "  80,\n",
       "  82,\n",
       "  82,\n",
       "  82,\n",
       "  82,\n",
       "  85,\n",
       "  85,\n",
       "  85,\n",
       "  85,\n",
       "  88,\n",
       "  88,\n",
       "  88,\n",
       "  88,\n",
       "  91,\n",
       "  91,\n",
       "  91,\n",
       "  91,\n",
       "  93,\n",
       "  93,\n",
       "  93,\n",
       "  93]}"
      ]
     },
     "execution_count": 39,
     "metadata": {},
     "output_type": "execute_result"
    }
   ],
   "source": [
    "def Greedy(data):\n",
    "    # Opening JSON file\n",
    "    N = data['N']; m = data['m']; M = data['M']; d = data['d']; s = data['s']; e = data['e']\n",
    "    fields = list(zip(d, s, e))\n",
    "    \n",
    "    start_time = time.time()\n",
    "    solution = {}\n",
    "    fields = sorted(fields, key=lambda x: (x[1], x[2]))\n",
    "    total_quantity = sum(d)\n",
    "    avg_quantity = total_quantity / N\n",
    "#     target = round((m + M) / 2 / avg_quantity) * avg_quantity\n",
    "    target = (m + M) / 2\n",
    "    num_days = int(total_quantity / target)\n",
    "    num_fields_in_low_target_days = N // num_days\n",
    "    num_fields_in_high_target_days = num_fields_in_low_target_days + 1\n",
    "    num_high_target_days = N - num_fields_in_low_target_days * num_days\n",
    "    num_low_target_days = num_days - num_high_target_days\n",
    "    print(N)\n",
    "    print(target)\n",
    "    print(num_days)\n",
    "    print(num_fields_in_low_target_days)\n",
    "    print(num_fields_in_high_target_days)\n",
    "    print(num_low_target_days)\n",
    "    print(num_high_target_days)\n",
    "#     last_day_to_harvest = 0\n",
    "#     strategy = list()\n",
    "#     strategy.append(list())\n",
    "    last_day_to_harvest = 0\n",
    "    field_index = 0\n",
    "    results = list()\n",
    "    for day in range(num_low_target_days):\n",
    "        total_quantity = 0\n",
    "        end_days = list()\n",
    "        for i in range(num_fields_in_low_target_days):\n",
    "            field = fields[field_index]\n",
    "            total_quantity += field[0]\n",
    "            end_days.append(field[2])\n",
    "            field_index += 1;\n",
    "        day_to_harvest = max(last_day_to_harvest, field[1])\n",
    "        last_day_to_harvest += 1\n",
    "        if day_to_harvest > min(end_days):\n",
    "            solution[\"time\"] = time.time() - start_time\n",
    "            solution[\"obj\"] = \"No Solution\"\n",
    "            return solution\n",
    "        if total_quantity < m or total_quantity > M:\n",
    "            solution[\"time\"] = time.time() - start_time\n",
    "            solution[\"obj\"] = \"No Solution\"\n",
    "            return solution\n",
    "        for i in range(num_fields_in_low_target_days):\n",
    "            results.append(day_to_harvest)\n",
    "            \n",
    "    for day in range(num_high_target_days):\n",
    "        total_quantity = 0\n",
    "        end_days = list()\n",
    "        for i in range(num_fields_in_high_target_days):\n",
    "            field = fields[field_index]\n",
    "            total_quantity += field[0]\n",
    "            end_days.append(field[2])\n",
    "            field_index += 1;\n",
    "        day_to_harvest = max(last_day_to_harvest, field[1])\n",
    "        last_day_to_harvest += 1\n",
    "        if day_to_harvest > min(end_days):\n",
    "            solution[\"time\"] = time.time() - start_time\n",
    "            solution[\"obj\"] = \"No Solution\"\n",
    "            return solution\n",
    "        if total_quantity < m or total_quantity > M:\n",
    "            solution[\"time\"] = time.time() - start_time\n",
    "            solution[\"obj\"] = \"No Solution\"\n",
    "            return solution\n",
    "        for i in range(num_fields_in_high_target_days):\n",
    "            results.append(day_to_harvest)\n",
    "            \n",
    "            \n",
    "    solution[\"time\"] = time.time() - start_time\n",
    "    solution[\"field\"] = results   \n",
    "    return solution\n",
    "\n",
    "Greedy(data)"
   ]
  },
  {
   "cell_type": "code",
   "execution_count": null,
   "id": "06445991",
   "metadata": {},
   "outputs": [],
   "source": [
    "\n",
    "sorted_list = sorted(list, key=lambda x: (x[0], -x[1]))"
   ]
  },
  {
   "cell_type": "code",
   "execution_count": 25,
   "id": "714aa004",
   "metadata": {},
   "outputs": [
    {
     "data": {
      "text/plain": [
       "2"
      ]
     },
     "execution_count": 25,
     "metadata": {},
     "output_type": "execute_result"
    }
   ],
   "source": [
    "math.floor(5.6 / 2.1)"
   ]
  },
  {
   "cell_type": "code",
   "execution_count": 22,
   "id": "26b0b0ed",
   "metadata": {},
   "outputs": [
    {
     "data": {
      "text/plain": [
       "2.6666666666666665"
      ]
     },
     "execution_count": 22,
     "metadata": {},
     "output_type": "execute_result"
    }
   ],
   "source": [
    "5.6 / 2.1"
   ]
  },
  {
   "cell_type": "code",
   "execution_count": 26,
   "id": "a9cf51a7",
   "metadata": {},
   "outputs": [
    {
     "data": {
      "text/plain": [
       "[]"
      ]
     },
     "execution_count": 26,
     "metadata": {},
     "output_type": "execute_result"
    }
   ],
   "source": [
    "list()"
   ]
  },
  {
   "cell_type": "code",
   "execution_count": null,
   "id": "5da0c5e9",
   "metadata": {},
   "outputs": [],
   "source": []
  }
 ],
 "metadata": {
  "kernelspec": {
   "display_name": "Python 3 (ipykernel)",
   "language": "python",
   "name": "python3"
  },
  "language_info": {
   "codemirror_mode": {
    "name": "ipython",
    "version": 3
   },
   "file_extension": ".py",
   "mimetype": "text/x-python",
   "name": "python",
   "nbconvert_exporter": "python",
   "pygments_lexer": "ipython3",
   "version": "3.9.13"
  }
 },
 "nbformat": 4,
 "nbformat_minor": 5
}
